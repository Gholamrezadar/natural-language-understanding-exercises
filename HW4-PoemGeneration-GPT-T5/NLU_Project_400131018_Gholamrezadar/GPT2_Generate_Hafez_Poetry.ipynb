{
  "nbformat": 4,
  "nbformat_minor": 0,
  "metadata": {
    "colab": {
      "provenance": [],
      "toc_visible": true
    },
    "kernelspec": {
      "name": "python3",
      "display_name": "Python 3"
    },
    "language_info": {
      "name": "python"
    },
    "accelerator": "GPU",
    "gpuClass": "standard",
    "widgets": {
      "application/vnd.jupyter.widget-state+json": {
        "3505660d4e634f33ac36ab9d0b2defd1": {
          "model_module": "@jupyter-widgets/controls",
          "model_name": "HBoxModel",
          "model_module_version": "1.5.0",
          "state": {
            "_dom_classes": [],
            "_model_module": "@jupyter-widgets/controls",
            "_model_module_version": "1.5.0",
            "_model_name": "HBoxModel",
            "_view_count": null,
            "_view_module": "@jupyter-widgets/controls",
            "_view_module_version": "1.5.0",
            "_view_name": "HBoxView",
            "box_style": "",
            "children": [
              "IPY_MODEL_061bd8d1759b4012a6205fa5b38268da",
              "IPY_MODEL_a7a51a7b86574551b790381d30babac6",
              "IPY_MODEL_daa0d2410fa34f25b57f427f549dfcda"
            ],
            "layout": "IPY_MODEL_5d53565f847048e791177cf09e26de77"
          }
        },
        "061bd8d1759b4012a6205fa5b38268da": {
          "model_module": "@jupyter-widgets/controls",
          "model_name": "HTMLModel",
          "model_module_version": "1.5.0",
          "state": {
            "_dom_classes": [],
            "_model_module": "@jupyter-widgets/controls",
            "_model_module_version": "1.5.0",
            "_model_name": "HTMLModel",
            "_view_count": null,
            "_view_module": "@jupyter-widgets/controls",
            "_view_module_version": "1.5.0",
            "_view_name": "HTMLView",
            "description": "",
            "description_tooltip": null,
            "layout": "IPY_MODEL_4747b7e6d9b448478ba457bd8df76b8f",
            "placeholder": "​",
            "style": "IPY_MODEL_fa036274fe524e29a43d5f77192bc773",
            "value": "Downloading (…)okenizer_config.json: 100%"
          }
        },
        "a7a51a7b86574551b790381d30babac6": {
          "model_module": "@jupyter-widgets/controls",
          "model_name": "FloatProgressModel",
          "model_module_version": "1.5.0",
          "state": {
            "_dom_classes": [],
            "_model_module": "@jupyter-widgets/controls",
            "_model_module_version": "1.5.0",
            "_model_name": "FloatProgressModel",
            "_view_count": null,
            "_view_module": "@jupyter-widgets/controls",
            "_view_module_version": "1.5.0",
            "_view_name": "ProgressView",
            "bar_style": "success",
            "description": "",
            "description_tooltip": null,
            "layout": "IPY_MODEL_74be091917f0470f8e69679a01f60864",
            "max": 728,
            "min": 0,
            "orientation": "horizontal",
            "style": "IPY_MODEL_9e820c049f804cc3a58f535233a1b6d3",
            "value": 728
          }
        },
        "daa0d2410fa34f25b57f427f549dfcda": {
          "model_module": "@jupyter-widgets/controls",
          "model_name": "HTMLModel",
          "model_module_version": "1.5.0",
          "state": {
            "_dom_classes": [],
            "_model_module": "@jupyter-widgets/controls",
            "_model_module_version": "1.5.0",
            "_model_name": "HTMLModel",
            "_view_count": null,
            "_view_module": "@jupyter-widgets/controls",
            "_view_module_version": "1.5.0",
            "_view_name": "HTMLView",
            "description": "",
            "description_tooltip": null,
            "layout": "IPY_MODEL_b95d3c7840594f15bf6eeb17a64faa06",
            "placeholder": "​",
            "style": "IPY_MODEL_16f434a16a954424abbfaeb79326cd39",
            "value": " 728/728 [00:00&lt;00:00, 19.7kB/s]"
          }
        },
        "5d53565f847048e791177cf09e26de77": {
          "model_module": "@jupyter-widgets/base",
          "model_name": "LayoutModel",
          "model_module_version": "1.2.0",
          "state": {
            "_model_module": "@jupyter-widgets/base",
            "_model_module_version": "1.2.0",
            "_model_name": "LayoutModel",
            "_view_count": null,
            "_view_module": "@jupyter-widgets/base",
            "_view_module_version": "1.2.0",
            "_view_name": "LayoutView",
            "align_content": null,
            "align_items": null,
            "align_self": null,
            "border": null,
            "bottom": null,
            "display": null,
            "flex": null,
            "flex_flow": null,
            "grid_area": null,
            "grid_auto_columns": null,
            "grid_auto_flow": null,
            "grid_auto_rows": null,
            "grid_column": null,
            "grid_gap": null,
            "grid_row": null,
            "grid_template_areas": null,
            "grid_template_columns": null,
            "grid_template_rows": null,
            "height": null,
            "justify_content": null,
            "justify_items": null,
            "left": null,
            "margin": null,
            "max_height": null,
            "max_width": null,
            "min_height": null,
            "min_width": null,
            "object_fit": null,
            "object_position": null,
            "order": null,
            "overflow": null,
            "overflow_x": null,
            "overflow_y": null,
            "padding": null,
            "right": null,
            "top": null,
            "visibility": null,
            "width": null
          }
        },
        "4747b7e6d9b448478ba457bd8df76b8f": {
          "model_module": "@jupyter-widgets/base",
          "model_name": "LayoutModel",
          "model_module_version": "1.2.0",
          "state": {
            "_model_module": "@jupyter-widgets/base",
            "_model_module_version": "1.2.0",
            "_model_name": "LayoutModel",
            "_view_count": null,
            "_view_module": "@jupyter-widgets/base",
            "_view_module_version": "1.2.0",
            "_view_name": "LayoutView",
            "align_content": null,
            "align_items": null,
            "align_self": null,
            "border": null,
            "bottom": null,
            "display": null,
            "flex": null,
            "flex_flow": null,
            "grid_area": null,
            "grid_auto_columns": null,
            "grid_auto_flow": null,
            "grid_auto_rows": null,
            "grid_column": null,
            "grid_gap": null,
            "grid_row": null,
            "grid_template_areas": null,
            "grid_template_columns": null,
            "grid_template_rows": null,
            "height": null,
            "justify_content": null,
            "justify_items": null,
            "left": null,
            "margin": null,
            "max_height": null,
            "max_width": null,
            "min_height": null,
            "min_width": null,
            "object_fit": null,
            "object_position": null,
            "order": null,
            "overflow": null,
            "overflow_x": null,
            "overflow_y": null,
            "padding": null,
            "right": null,
            "top": null,
            "visibility": null,
            "width": null
          }
        },
        "fa036274fe524e29a43d5f77192bc773": {
          "model_module": "@jupyter-widgets/controls",
          "model_name": "DescriptionStyleModel",
          "model_module_version": "1.5.0",
          "state": {
            "_model_module": "@jupyter-widgets/controls",
            "_model_module_version": "1.5.0",
            "_model_name": "DescriptionStyleModel",
            "_view_count": null,
            "_view_module": "@jupyter-widgets/base",
            "_view_module_version": "1.2.0",
            "_view_name": "StyleView",
            "description_width": ""
          }
        },
        "74be091917f0470f8e69679a01f60864": {
          "model_module": "@jupyter-widgets/base",
          "model_name": "LayoutModel",
          "model_module_version": "1.2.0",
          "state": {
            "_model_module": "@jupyter-widgets/base",
            "_model_module_version": "1.2.0",
            "_model_name": "LayoutModel",
            "_view_count": null,
            "_view_module": "@jupyter-widgets/base",
            "_view_module_version": "1.2.0",
            "_view_name": "LayoutView",
            "align_content": null,
            "align_items": null,
            "align_self": null,
            "border": null,
            "bottom": null,
            "display": null,
            "flex": null,
            "flex_flow": null,
            "grid_area": null,
            "grid_auto_columns": null,
            "grid_auto_flow": null,
            "grid_auto_rows": null,
            "grid_column": null,
            "grid_gap": null,
            "grid_row": null,
            "grid_template_areas": null,
            "grid_template_columns": null,
            "grid_template_rows": null,
            "height": null,
            "justify_content": null,
            "justify_items": null,
            "left": null,
            "margin": null,
            "max_height": null,
            "max_width": null,
            "min_height": null,
            "min_width": null,
            "object_fit": null,
            "object_position": null,
            "order": null,
            "overflow": null,
            "overflow_x": null,
            "overflow_y": null,
            "padding": null,
            "right": null,
            "top": null,
            "visibility": null,
            "width": null
          }
        },
        "9e820c049f804cc3a58f535233a1b6d3": {
          "model_module": "@jupyter-widgets/controls",
          "model_name": "ProgressStyleModel",
          "model_module_version": "1.5.0",
          "state": {
            "_model_module": "@jupyter-widgets/controls",
            "_model_module_version": "1.5.0",
            "_model_name": "ProgressStyleModel",
            "_view_count": null,
            "_view_module": "@jupyter-widgets/base",
            "_view_module_version": "1.2.0",
            "_view_name": "StyleView",
            "bar_color": null,
            "description_width": ""
          }
        },
        "b95d3c7840594f15bf6eeb17a64faa06": {
          "model_module": "@jupyter-widgets/base",
          "model_name": "LayoutModel",
          "model_module_version": "1.2.0",
          "state": {
            "_model_module": "@jupyter-widgets/base",
            "_model_module_version": "1.2.0",
            "_model_name": "LayoutModel",
            "_view_count": null,
            "_view_module": "@jupyter-widgets/base",
            "_view_module_version": "1.2.0",
            "_view_name": "LayoutView",
            "align_content": null,
            "align_items": null,
            "align_self": null,
            "border": null,
            "bottom": null,
            "display": null,
            "flex": null,
            "flex_flow": null,
            "grid_area": null,
            "grid_auto_columns": null,
            "grid_auto_flow": null,
            "grid_auto_rows": null,
            "grid_column": null,
            "grid_gap": null,
            "grid_row": null,
            "grid_template_areas": null,
            "grid_template_columns": null,
            "grid_template_rows": null,
            "height": null,
            "justify_content": null,
            "justify_items": null,
            "left": null,
            "margin": null,
            "max_height": null,
            "max_width": null,
            "min_height": null,
            "min_width": null,
            "object_fit": null,
            "object_position": null,
            "order": null,
            "overflow": null,
            "overflow_x": null,
            "overflow_y": null,
            "padding": null,
            "right": null,
            "top": null,
            "visibility": null,
            "width": null
          }
        },
        "16f434a16a954424abbfaeb79326cd39": {
          "model_module": "@jupyter-widgets/controls",
          "model_name": "DescriptionStyleModel",
          "model_module_version": "1.5.0",
          "state": {
            "_model_module": "@jupyter-widgets/controls",
            "_model_module_version": "1.5.0",
            "_model_name": "DescriptionStyleModel",
            "_view_count": null,
            "_view_module": "@jupyter-widgets/base",
            "_view_module_version": "1.2.0",
            "_view_name": "StyleView",
            "description_width": ""
          }
        },
        "0a496c05872649fa906a40bd0d886c06": {
          "model_module": "@jupyter-widgets/controls",
          "model_name": "HBoxModel",
          "model_module_version": "1.5.0",
          "state": {
            "_dom_classes": [],
            "_model_module": "@jupyter-widgets/controls",
            "_model_module_version": "1.5.0",
            "_model_name": "HBoxModel",
            "_view_count": null,
            "_view_module": "@jupyter-widgets/controls",
            "_view_module_version": "1.5.0",
            "_view_name": "HBoxView",
            "box_style": "",
            "children": [
              "IPY_MODEL_3c01131687b441aba3ec63c72c47597e",
              "IPY_MODEL_2243be1d186e477ebea518e5d4f1cc52",
              "IPY_MODEL_ee3a3eab27bf419badb7ab54cdfc2730"
            ],
            "layout": "IPY_MODEL_5f6cdf95f258407ea38620377873e114"
          }
        },
        "3c01131687b441aba3ec63c72c47597e": {
          "model_module": "@jupyter-widgets/controls",
          "model_name": "HTMLModel",
          "model_module_version": "1.5.0",
          "state": {
            "_dom_classes": [],
            "_model_module": "@jupyter-widgets/controls",
            "_model_module_version": "1.5.0",
            "_model_name": "HTMLModel",
            "_view_count": null,
            "_view_module": "@jupyter-widgets/controls",
            "_view_module_version": "1.5.0",
            "_view_name": "HTMLView",
            "description": "",
            "description_tooltip": null,
            "layout": "IPY_MODEL_38854ce448744b3285db3ea8320495d2",
            "placeholder": "​",
            "style": "IPY_MODEL_93fd66a281d94f7ea295ce15314f8844",
            "value": "Downloading (…)lve/main/config.json: 100%"
          }
        },
        "2243be1d186e477ebea518e5d4f1cc52": {
          "model_module": "@jupyter-widgets/controls",
          "model_name": "FloatProgressModel",
          "model_module_version": "1.5.0",
          "state": {
            "_dom_classes": [],
            "_model_module": "@jupyter-widgets/controls",
            "_model_module_version": "1.5.0",
            "_model_name": "FloatProgressModel",
            "_view_count": null,
            "_view_module": "@jupyter-widgets/controls",
            "_view_module_version": "1.5.0",
            "_view_name": "ProgressView",
            "bar_style": "success",
            "description": "",
            "description_tooltip": null,
            "layout": "IPY_MODEL_e5e774cce4f54653a2cb8564049ef0eb",
            "max": 808,
            "min": 0,
            "orientation": "horizontal",
            "style": "IPY_MODEL_48c96dee593a4a0aa281c3d4aa97cd80",
            "value": 808
          }
        },
        "ee3a3eab27bf419badb7ab54cdfc2730": {
          "model_module": "@jupyter-widgets/controls",
          "model_name": "HTMLModel",
          "model_module_version": "1.5.0",
          "state": {
            "_dom_classes": [],
            "_model_module": "@jupyter-widgets/controls",
            "_model_module_version": "1.5.0",
            "_model_name": "HTMLModel",
            "_view_count": null,
            "_view_module": "@jupyter-widgets/controls",
            "_view_module_version": "1.5.0",
            "_view_name": "HTMLView",
            "description": "",
            "description_tooltip": null,
            "layout": "IPY_MODEL_34b2a2474d794a16b99ab5685d03f96a",
            "placeholder": "​",
            "style": "IPY_MODEL_fa8ebd92418f4523b9c634163c09d0bf",
            "value": " 808/808 [00:00&lt;00:00, 23.1kB/s]"
          }
        },
        "5f6cdf95f258407ea38620377873e114": {
          "model_module": "@jupyter-widgets/base",
          "model_name": "LayoutModel",
          "model_module_version": "1.2.0",
          "state": {
            "_model_module": "@jupyter-widgets/base",
            "_model_module_version": "1.2.0",
            "_model_name": "LayoutModel",
            "_view_count": null,
            "_view_module": "@jupyter-widgets/base",
            "_view_module_version": "1.2.0",
            "_view_name": "LayoutView",
            "align_content": null,
            "align_items": null,
            "align_self": null,
            "border": null,
            "bottom": null,
            "display": null,
            "flex": null,
            "flex_flow": null,
            "grid_area": null,
            "grid_auto_columns": null,
            "grid_auto_flow": null,
            "grid_auto_rows": null,
            "grid_column": null,
            "grid_gap": null,
            "grid_row": null,
            "grid_template_areas": null,
            "grid_template_columns": null,
            "grid_template_rows": null,
            "height": null,
            "justify_content": null,
            "justify_items": null,
            "left": null,
            "margin": null,
            "max_height": null,
            "max_width": null,
            "min_height": null,
            "min_width": null,
            "object_fit": null,
            "object_position": null,
            "order": null,
            "overflow": null,
            "overflow_x": null,
            "overflow_y": null,
            "padding": null,
            "right": null,
            "top": null,
            "visibility": null,
            "width": null
          }
        },
        "38854ce448744b3285db3ea8320495d2": {
          "model_module": "@jupyter-widgets/base",
          "model_name": "LayoutModel",
          "model_module_version": "1.2.0",
          "state": {
            "_model_module": "@jupyter-widgets/base",
            "_model_module_version": "1.2.0",
            "_model_name": "LayoutModel",
            "_view_count": null,
            "_view_module": "@jupyter-widgets/base",
            "_view_module_version": "1.2.0",
            "_view_name": "LayoutView",
            "align_content": null,
            "align_items": null,
            "align_self": null,
            "border": null,
            "bottom": null,
            "display": null,
            "flex": null,
            "flex_flow": null,
            "grid_area": null,
            "grid_auto_columns": null,
            "grid_auto_flow": null,
            "grid_auto_rows": null,
            "grid_column": null,
            "grid_gap": null,
            "grid_row": null,
            "grid_template_areas": null,
            "grid_template_columns": null,
            "grid_template_rows": null,
            "height": null,
            "justify_content": null,
            "justify_items": null,
            "left": null,
            "margin": null,
            "max_height": null,
            "max_width": null,
            "min_height": null,
            "min_width": null,
            "object_fit": null,
            "object_position": null,
            "order": null,
            "overflow": null,
            "overflow_x": null,
            "overflow_y": null,
            "padding": null,
            "right": null,
            "top": null,
            "visibility": null,
            "width": null
          }
        },
        "93fd66a281d94f7ea295ce15314f8844": {
          "model_module": "@jupyter-widgets/controls",
          "model_name": "DescriptionStyleModel",
          "model_module_version": "1.5.0",
          "state": {
            "_model_module": "@jupyter-widgets/controls",
            "_model_module_version": "1.5.0",
            "_model_name": "DescriptionStyleModel",
            "_view_count": null,
            "_view_module": "@jupyter-widgets/base",
            "_view_module_version": "1.2.0",
            "_view_name": "StyleView",
            "description_width": ""
          }
        },
        "e5e774cce4f54653a2cb8564049ef0eb": {
          "model_module": "@jupyter-widgets/base",
          "model_name": "LayoutModel",
          "model_module_version": "1.2.0",
          "state": {
            "_model_module": "@jupyter-widgets/base",
            "_model_module_version": "1.2.0",
            "_model_name": "LayoutModel",
            "_view_count": null,
            "_view_module": "@jupyter-widgets/base",
            "_view_module_version": "1.2.0",
            "_view_name": "LayoutView",
            "align_content": null,
            "align_items": null,
            "align_self": null,
            "border": null,
            "bottom": null,
            "display": null,
            "flex": null,
            "flex_flow": null,
            "grid_area": null,
            "grid_auto_columns": null,
            "grid_auto_flow": null,
            "grid_auto_rows": null,
            "grid_column": null,
            "grid_gap": null,
            "grid_row": null,
            "grid_template_areas": null,
            "grid_template_columns": null,
            "grid_template_rows": null,
            "height": null,
            "justify_content": null,
            "justify_items": null,
            "left": null,
            "margin": null,
            "max_height": null,
            "max_width": null,
            "min_height": null,
            "min_width": null,
            "object_fit": null,
            "object_position": null,
            "order": null,
            "overflow": null,
            "overflow_x": null,
            "overflow_y": null,
            "padding": null,
            "right": null,
            "top": null,
            "visibility": null,
            "width": null
          }
        },
        "48c96dee593a4a0aa281c3d4aa97cd80": {
          "model_module": "@jupyter-widgets/controls",
          "model_name": "ProgressStyleModel",
          "model_module_version": "1.5.0",
          "state": {
            "_model_module": "@jupyter-widgets/controls",
            "_model_module_version": "1.5.0",
            "_model_name": "ProgressStyleModel",
            "_view_count": null,
            "_view_module": "@jupyter-widgets/base",
            "_view_module_version": "1.2.0",
            "_view_name": "StyleView",
            "bar_color": null,
            "description_width": ""
          }
        },
        "34b2a2474d794a16b99ab5685d03f96a": {
          "model_module": "@jupyter-widgets/base",
          "model_name": "LayoutModel",
          "model_module_version": "1.2.0",
          "state": {
            "_model_module": "@jupyter-widgets/base",
            "_model_module_version": "1.2.0",
            "_model_name": "LayoutModel",
            "_view_count": null,
            "_view_module": "@jupyter-widgets/base",
            "_view_module_version": "1.2.0",
            "_view_name": "LayoutView",
            "align_content": null,
            "align_items": null,
            "align_self": null,
            "border": null,
            "bottom": null,
            "display": null,
            "flex": null,
            "flex_flow": null,
            "grid_area": null,
            "grid_auto_columns": null,
            "grid_auto_flow": null,
            "grid_auto_rows": null,
            "grid_column": null,
            "grid_gap": null,
            "grid_row": null,
            "grid_template_areas": null,
            "grid_template_columns": null,
            "grid_template_rows": null,
            "height": null,
            "justify_content": null,
            "justify_items": null,
            "left": null,
            "margin": null,
            "max_height": null,
            "max_width": null,
            "min_height": null,
            "min_width": null,
            "object_fit": null,
            "object_position": null,
            "order": null,
            "overflow": null,
            "overflow_x": null,
            "overflow_y": null,
            "padding": null,
            "right": null,
            "top": null,
            "visibility": null,
            "width": null
          }
        },
        "fa8ebd92418f4523b9c634163c09d0bf": {
          "model_module": "@jupyter-widgets/controls",
          "model_name": "DescriptionStyleModel",
          "model_module_version": "1.5.0",
          "state": {
            "_model_module": "@jupyter-widgets/controls",
            "_model_module_version": "1.5.0",
            "_model_name": "DescriptionStyleModel",
            "_view_count": null,
            "_view_module": "@jupyter-widgets/base",
            "_view_module_version": "1.2.0",
            "_view_name": "StyleView",
            "description_width": ""
          }
        },
        "b2b10524477942ecae423d30a4bd11c6": {
          "model_module": "@jupyter-widgets/controls",
          "model_name": "HBoxModel",
          "model_module_version": "1.5.0",
          "state": {
            "_dom_classes": [],
            "_model_module": "@jupyter-widgets/controls",
            "_model_module_version": "1.5.0",
            "_model_name": "HBoxModel",
            "_view_count": null,
            "_view_module": "@jupyter-widgets/controls",
            "_view_module_version": "1.5.0",
            "_view_name": "HBoxView",
            "box_style": "",
            "children": [
              "IPY_MODEL_43015a8b00c248e5aac764429a75aeca",
              "IPY_MODEL_bc8487e8264c4181aa017ab374de985c",
              "IPY_MODEL_e9354674f93e451b95aa5d9311ff9c28"
            ],
            "layout": "IPY_MODEL_7111b1a320b54cea952df5fc71ecaf29"
          }
        },
        "43015a8b00c248e5aac764429a75aeca": {
          "model_module": "@jupyter-widgets/controls",
          "model_name": "HTMLModel",
          "model_module_version": "1.5.0",
          "state": {
            "_dom_classes": [],
            "_model_module": "@jupyter-widgets/controls",
            "_model_module_version": "1.5.0",
            "_model_name": "HTMLModel",
            "_view_count": null,
            "_view_module": "@jupyter-widgets/controls",
            "_view_module_version": "1.5.0",
            "_view_name": "HTMLView",
            "description": "",
            "description_tooltip": null,
            "layout": "IPY_MODEL_aef4cc039b6d4ec09cb0494ff1acc7c5",
            "placeholder": "​",
            "style": "IPY_MODEL_b2af9e0d5a744b47a7868b0e7481053b",
            "value": "Downloading (…)olve/main/vocab.json: 100%"
          }
        },
        "bc8487e8264c4181aa017ab374de985c": {
          "model_module": "@jupyter-widgets/controls",
          "model_name": "FloatProgressModel",
          "model_module_version": "1.5.0",
          "state": {
            "_dom_classes": [],
            "_model_module": "@jupyter-widgets/controls",
            "_model_module_version": "1.5.0",
            "_model_name": "FloatProgressModel",
            "_view_count": null,
            "_view_module": "@jupyter-widgets/controls",
            "_view_module_version": "1.5.0",
            "_view_name": "ProgressView",
            "bar_style": "success",
            "description": "",
            "description_tooltip": null,
            "layout": "IPY_MODEL_092ce384eb8647f38af24390579baadc",
            "max": 1159342,
            "min": 0,
            "orientation": "horizontal",
            "style": "IPY_MODEL_909a0cce5fbf48f3beddefb327a31a1f",
            "value": 1159342
          }
        },
        "e9354674f93e451b95aa5d9311ff9c28": {
          "model_module": "@jupyter-widgets/controls",
          "model_name": "HTMLModel",
          "model_module_version": "1.5.0",
          "state": {
            "_dom_classes": [],
            "_model_module": "@jupyter-widgets/controls",
            "_model_module_version": "1.5.0",
            "_model_name": "HTMLModel",
            "_view_count": null,
            "_view_module": "@jupyter-widgets/controls",
            "_view_module_version": "1.5.0",
            "_view_name": "HTMLView",
            "description": "",
            "description_tooltip": null,
            "layout": "IPY_MODEL_03ce68ab6f7b4efb8de80310b402459a",
            "placeholder": "​",
            "style": "IPY_MODEL_b53df964175b46b79a73a24348405762",
            "value": " 1.16M/1.16M [00:01&lt;00:00, 861kB/s]"
          }
        },
        "7111b1a320b54cea952df5fc71ecaf29": {
          "model_module": "@jupyter-widgets/base",
          "model_name": "LayoutModel",
          "model_module_version": "1.2.0",
          "state": {
            "_model_module": "@jupyter-widgets/base",
            "_model_module_version": "1.2.0",
            "_model_name": "LayoutModel",
            "_view_count": null,
            "_view_module": "@jupyter-widgets/base",
            "_view_module_version": "1.2.0",
            "_view_name": "LayoutView",
            "align_content": null,
            "align_items": null,
            "align_self": null,
            "border": null,
            "bottom": null,
            "display": null,
            "flex": null,
            "flex_flow": null,
            "grid_area": null,
            "grid_auto_columns": null,
            "grid_auto_flow": null,
            "grid_auto_rows": null,
            "grid_column": null,
            "grid_gap": null,
            "grid_row": null,
            "grid_template_areas": null,
            "grid_template_columns": null,
            "grid_template_rows": null,
            "height": null,
            "justify_content": null,
            "justify_items": null,
            "left": null,
            "margin": null,
            "max_height": null,
            "max_width": null,
            "min_height": null,
            "min_width": null,
            "object_fit": null,
            "object_position": null,
            "order": null,
            "overflow": null,
            "overflow_x": null,
            "overflow_y": null,
            "padding": null,
            "right": null,
            "top": null,
            "visibility": null,
            "width": null
          }
        },
        "aef4cc039b6d4ec09cb0494ff1acc7c5": {
          "model_module": "@jupyter-widgets/base",
          "model_name": "LayoutModel",
          "model_module_version": "1.2.0",
          "state": {
            "_model_module": "@jupyter-widgets/base",
            "_model_module_version": "1.2.0",
            "_model_name": "LayoutModel",
            "_view_count": null,
            "_view_module": "@jupyter-widgets/base",
            "_view_module_version": "1.2.0",
            "_view_name": "LayoutView",
            "align_content": null,
            "align_items": null,
            "align_self": null,
            "border": null,
            "bottom": null,
            "display": null,
            "flex": null,
            "flex_flow": null,
            "grid_area": null,
            "grid_auto_columns": null,
            "grid_auto_flow": null,
            "grid_auto_rows": null,
            "grid_column": null,
            "grid_gap": null,
            "grid_row": null,
            "grid_template_areas": null,
            "grid_template_columns": null,
            "grid_template_rows": null,
            "height": null,
            "justify_content": null,
            "justify_items": null,
            "left": null,
            "margin": null,
            "max_height": null,
            "max_width": null,
            "min_height": null,
            "min_width": null,
            "object_fit": null,
            "object_position": null,
            "order": null,
            "overflow": null,
            "overflow_x": null,
            "overflow_y": null,
            "padding": null,
            "right": null,
            "top": null,
            "visibility": null,
            "width": null
          }
        },
        "b2af9e0d5a744b47a7868b0e7481053b": {
          "model_module": "@jupyter-widgets/controls",
          "model_name": "DescriptionStyleModel",
          "model_module_version": "1.5.0",
          "state": {
            "_model_module": "@jupyter-widgets/controls",
            "_model_module_version": "1.5.0",
            "_model_name": "DescriptionStyleModel",
            "_view_count": null,
            "_view_module": "@jupyter-widgets/base",
            "_view_module_version": "1.2.0",
            "_view_name": "StyleView",
            "description_width": ""
          }
        },
        "092ce384eb8647f38af24390579baadc": {
          "model_module": "@jupyter-widgets/base",
          "model_name": "LayoutModel",
          "model_module_version": "1.2.0",
          "state": {
            "_model_module": "@jupyter-widgets/base",
            "_model_module_version": "1.2.0",
            "_model_name": "LayoutModel",
            "_view_count": null,
            "_view_module": "@jupyter-widgets/base",
            "_view_module_version": "1.2.0",
            "_view_name": "LayoutView",
            "align_content": null,
            "align_items": null,
            "align_self": null,
            "border": null,
            "bottom": null,
            "display": null,
            "flex": null,
            "flex_flow": null,
            "grid_area": null,
            "grid_auto_columns": null,
            "grid_auto_flow": null,
            "grid_auto_rows": null,
            "grid_column": null,
            "grid_gap": null,
            "grid_row": null,
            "grid_template_areas": null,
            "grid_template_columns": null,
            "grid_template_rows": null,
            "height": null,
            "justify_content": null,
            "justify_items": null,
            "left": null,
            "margin": null,
            "max_height": null,
            "max_width": null,
            "min_height": null,
            "min_width": null,
            "object_fit": null,
            "object_position": null,
            "order": null,
            "overflow": null,
            "overflow_x": null,
            "overflow_y": null,
            "padding": null,
            "right": null,
            "top": null,
            "visibility": null,
            "width": null
          }
        },
        "909a0cce5fbf48f3beddefb327a31a1f": {
          "model_module": "@jupyter-widgets/controls",
          "model_name": "ProgressStyleModel",
          "model_module_version": "1.5.0",
          "state": {
            "_model_module": "@jupyter-widgets/controls",
            "_model_module_version": "1.5.0",
            "_model_name": "ProgressStyleModel",
            "_view_count": null,
            "_view_module": "@jupyter-widgets/base",
            "_view_module_version": "1.2.0",
            "_view_name": "StyleView",
            "bar_color": null,
            "description_width": ""
          }
        },
        "03ce68ab6f7b4efb8de80310b402459a": {
          "model_module": "@jupyter-widgets/base",
          "model_name": "LayoutModel",
          "model_module_version": "1.2.0",
          "state": {
            "_model_module": "@jupyter-widgets/base",
            "_model_module_version": "1.2.0",
            "_model_name": "LayoutModel",
            "_view_count": null,
            "_view_module": "@jupyter-widgets/base",
            "_view_module_version": "1.2.0",
            "_view_name": "LayoutView",
            "align_content": null,
            "align_items": null,
            "align_self": null,
            "border": null,
            "bottom": null,
            "display": null,
            "flex": null,
            "flex_flow": null,
            "grid_area": null,
            "grid_auto_columns": null,
            "grid_auto_flow": null,
            "grid_auto_rows": null,
            "grid_column": null,
            "grid_gap": null,
            "grid_row": null,
            "grid_template_areas": null,
            "grid_template_columns": null,
            "grid_template_rows": null,
            "height": null,
            "justify_content": null,
            "justify_items": null,
            "left": null,
            "margin": null,
            "max_height": null,
            "max_width": null,
            "min_height": null,
            "min_width": null,
            "object_fit": null,
            "object_position": null,
            "order": null,
            "overflow": null,
            "overflow_x": null,
            "overflow_y": null,
            "padding": null,
            "right": null,
            "top": null,
            "visibility": null,
            "width": null
          }
        },
        "b53df964175b46b79a73a24348405762": {
          "model_module": "@jupyter-widgets/controls",
          "model_name": "DescriptionStyleModel",
          "model_module_version": "1.5.0",
          "state": {
            "_model_module": "@jupyter-widgets/controls",
            "_model_module_version": "1.5.0",
            "_model_name": "DescriptionStyleModel",
            "_view_count": null,
            "_view_module": "@jupyter-widgets/base",
            "_view_module_version": "1.2.0",
            "_view_name": "StyleView",
            "description_width": ""
          }
        },
        "a20f5d9f60d142ee8ee4194d6148d728": {
          "model_module": "@jupyter-widgets/controls",
          "model_name": "HBoxModel",
          "model_module_version": "1.5.0",
          "state": {
            "_dom_classes": [],
            "_model_module": "@jupyter-widgets/controls",
            "_model_module_version": "1.5.0",
            "_model_name": "HBoxModel",
            "_view_count": null,
            "_view_module": "@jupyter-widgets/controls",
            "_view_module_version": "1.5.0",
            "_view_name": "HBoxView",
            "box_style": "",
            "children": [
              "IPY_MODEL_59df5bb94cc9409486d6c671723d0511",
              "IPY_MODEL_17f02cfbc17545aa8b32f5255800ed18",
              "IPY_MODEL_6b0d6ae0c5fa4c7fbe5710b718008f32"
            ],
            "layout": "IPY_MODEL_45545026299942ebbfde41936f2f05ea"
          }
        },
        "59df5bb94cc9409486d6c671723d0511": {
          "model_module": "@jupyter-widgets/controls",
          "model_name": "HTMLModel",
          "model_module_version": "1.5.0",
          "state": {
            "_dom_classes": [],
            "_model_module": "@jupyter-widgets/controls",
            "_model_module_version": "1.5.0",
            "_model_name": "HTMLModel",
            "_view_count": null,
            "_view_module": "@jupyter-widgets/controls",
            "_view_module_version": "1.5.0",
            "_view_name": "HTMLView",
            "description": "",
            "description_tooltip": null,
            "layout": "IPY_MODEL_88a56972d2d748238a85f91a14254886",
            "placeholder": "​",
            "style": "IPY_MODEL_3c67a844aadf43d0988bfd79cab20096",
            "value": "Downloading (…)olve/main/merges.txt: 100%"
          }
        },
        "17f02cfbc17545aa8b32f5255800ed18": {
          "model_module": "@jupyter-widgets/controls",
          "model_name": "FloatProgressModel",
          "model_module_version": "1.5.0",
          "state": {
            "_dom_classes": [],
            "_model_module": "@jupyter-widgets/controls",
            "_model_module_version": "1.5.0",
            "_model_name": "FloatProgressModel",
            "_view_count": null,
            "_view_module": "@jupyter-widgets/controls",
            "_view_module_version": "1.5.0",
            "_view_name": "ProgressView",
            "bar_style": "success",
            "description": "",
            "description_tooltip": null,
            "layout": "IPY_MODEL_99324e4d11054e608b159b3f2b20e079",
            "max": 875476,
            "min": 0,
            "orientation": "horizontal",
            "style": "IPY_MODEL_2a7b343a66d54d2e880a109ff6ba0ac5",
            "value": 875476
          }
        },
        "6b0d6ae0c5fa4c7fbe5710b718008f32": {
          "model_module": "@jupyter-widgets/controls",
          "model_name": "HTMLModel",
          "model_module_version": "1.5.0",
          "state": {
            "_dom_classes": [],
            "_model_module": "@jupyter-widgets/controls",
            "_model_module_version": "1.5.0",
            "_model_name": "HTMLModel",
            "_view_count": null,
            "_view_module": "@jupyter-widgets/controls",
            "_view_module_version": "1.5.0",
            "_view_name": "HTMLView",
            "description": "",
            "description_tooltip": null,
            "layout": "IPY_MODEL_119eab9b1c1b4e6589537614cc3eb924",
            "placeholder": "​",
            "style": "IPY_MODEL_17da990d860642d796a7bb91cc878a7b",
            "value": " 875k/875k [00:01&lt;00:00, 790kB/s]"
          }
        },
        "45545026299942ebbfde41936f2f05ea": {
          "model_module": "@jupyter-widgets/base",
          "model_name": "LayoutModel",
          "model_module_version": "1.2.0",
          "state": {
            "_model_module": "@jupyter-widgets/base",
            "_model_module_version": "1.2.0",
            "_model_name": "LayoutModel",
            "_view_count": null,
            "_view_module": "@jupyter-widgets/base",
            "_view_module_version": "1.2.0",
            "_view_name": "LayoutView",
            "align_content": null,
            "align_items": null,
            "align_self": null,
            "border": null,
            "bottom": null,
            "display": null,
            "flex": null,
            "flex_flow": null,
            "grid_area": null,
            "grid_auto_columns": null,
            "grid_auto_flow": null,
            "grid_auto_rows": null,
            "grid_column": null,
            "grid_gap": null,
            "grid_row": null,
            "grid_template_areas": null,
            "grid_template_columns": null,
            "grid_template_rows": null,
            "height": null,
            "justify_content": null,
            "justify_items": null,
            "left": null,
            "margin": null,
            "max_height": null,
            "max_width": null,
            "min_height": null,
            "min_width": null,
            "object_fit": null,
            "object_position": null,
            "order": null,
            "overflow": null,
            "overflow_x": null,
            "overflow_y": null,
            "padding": null,
            "right": null,
            "top": null,
            "visibility": null,
            "width": null
          }
        },
        "88a56972d2d748238a85f91a14254886": {
          "model_module": "@jupyter-widgets/base",
          "model_name": "LayoutModel",
          "model_module_version": "1.2.0",
          "state": {
            "_model_module": "@jupyter-widgets/base",
            "_model_module_version": "1.2.0",
            "_model_name": "LayoutModel",
            "_view_count": null,
            "_view_module": "@jupyter-widgets/base",
            "_view_module_version": "1.2.0",
            "_view_name": "LayoutView",
            "align_content": null,
            "align_items": null,
            "align_self": null,
            "border": null,
            "bottom": null,
            "display": null,
            "flex": null,
            "flex_flow": null,
            "grid_area": null,
            "grid_auto_columns": null,
            "grid_auto_flow": null,
            "grid_auto_rows": null,
            "grid_column": null,
            "grid_gap": null,
            "grid_row": null,
            "grid_template_areas": null,
            "grid_template_columns": null,
            "grid_template_rows": null,
            "height": null,
            "justify_content": null,
            "justify_items": null,
            "left": null,
            "margin": null,
            "max_height": null,
            "max_width": null,
            "min_height": null,
            "min_width": null,
            "object_fit": null,
            "object_position": null,
            "order": null,
            "overflow": null,
            "overflow_x": null,
            "overflow_y": null,
            "padding": null,
            "right": null,
            "top": null,
            "visibility": null,
            "width": null
          }
        },
        "3c67a844aadf43d0988bfd79cab20096": {
          "model_module": "@jupyter-widgets/controls",
          "model_name": "DescriptionStyleModel",
          "model_module_version": "1.5.0",
          "state": {
            "_model_module": "@jupyter-widgets/controls",
            "_model_module_version": "1.5.0",
            "_model_name": "DescriptionStyleModel",
            "_view_count": null,
            "_view_module": "@jupyter-widgets/base",
            "_view_module_version": "1.2.0",
            "_view_name": "StyleView",
            "description_width": ""
          }
        },
        "99324e4d11054e608b159b3f2b20e079": {
          "model_module": "@jupyter-widgets/base",
          "model_name": "LayoutModel",
          "model_module_version": "1.2.0",
          "state": {
            "_model_module": "@jupyter-widgets/base",
            "_model_module_version": "1.2.0",
            "_model_name": "LayoutModel",
            "_view_count": null,
            "_view_module": "@jupyter-widgets/base",
            "_view_module_version": "1.2.0",
            "_view_name": "LayoutView",
            "align_content": null,
            "align_items": null,
            "align_self": null,
            "border": null,
            "bottom": null,
            "display": null,
            "flex": null,
            "flex_flow": null,
            "grid_area": null,
            "grid_auto_columns": null,
            "grid_auto_flow": null,
            "grid_auto_rows": null,
            "grid_column": null,
            "grid_gap": null,
            "grid_row": null,
            "grid_template_areas": null,
            "grid_template_columns": null,
            "grid_template_rows": null,
            "height": null,
            "justify_content": null,
            "justify_items": null,
            "left": null,
            "margin": null,
            "max_height": null,
            "max_width": null,
            "min_height": null,
            "min_width": null,
            "object_fit": null,
            "object_position": null,
            "order": null,
            "overflow": null,
            "overflow_x": null,
            "overflow_y": null,
            "padding": null,
            "right": null,
            "top": null,
            "visibility": null,
            "width": null
          }
        },
        "2a7b343a66d54d2e880a109ff6ba0ac5": {
          "model_module": "@jupyter-widgets/controls",
          "model_name": "ProgressStyleModel",
          "model_module_version": "1.5.0",
          "state": {
            "_model_module": "@jupyter-widgets/controls",
            "_model_module_version": "1.5.0",
            "_model_name": "ProgressStyleModel",
            "_view_count": null,
            "_view_module": "@jupyter-widgets/base",
            "_view_module_version": "1.2.0",
            "_view_name": "StyleView",
            "bar_color": null,
            "description_width": ""
          }
        },
        "119eab9b1c1b4e6589537614cc3eb924": {
          "model_module": "@jupyter-widgets/base",
          "model_name": "LayoutModel",
          "model_module_version": "1.2.0",
          "state": {
            "_model_module": "@jupyter-widgets/base",
            "_model_module_version": "1.2.0",
            "_model_name": "LayoutModel",
            "_view_count": null,
            "_view_module": "@jupyter-widgets/base",
            "_view_module_version": "1.2.0",
            "_view_name": "LayoutView",
            "align_content": null,
            "align_items": null,
            "align_self": null,
            "border": null,
            "bottom": null,
            "display": null,
            "flex": null,
            "flex_flow": null,
            "grid_area": null,
            "grid_auto_columns": null,
            "grid_auto_flow": null,
            "grid_auto_rows": null,
            "grid_column": null,
            "grid_gap": null,
            "grid_row": null,
            "grid_template_areas": null,
            "grid_template_columns": null,
            "grid_template_rows": null,
            "height": null,
            "justify_content": null,
            "justify_items": null,
            "left": null,
            "margin": null,
            "max_height": null,
            "max_width": null,
            "min_height": null,
            "min_width": null,
            "object_fit": null,
            "object_position": null,
            "order": null,
            "overflow": null,
            "overflow_x": null,
            "overflow_y": null,
            "padding": null,
            "right": null,
            "top": null,
            "visibility": null,
            "width": null
          }
        },
        "17da990d860642d796a7bb91cc878a7b": {
          "model_module": "@jupyter-widgets/controls",
          "model_name": "DescriptionStyleModel",
          "model_module_version": "1.5.0",
          "state": {
            "_model_module": "@jupyter-widgets/controls",
            "_model_module_version": "1.5.0",
            "_model_name": "DescriptionStyleModel",
            "_view_count": null,
            "_view_module": "@jupyter-widgets/base",
            "_view_module_version": "1.2.0",
            "_view_name": "StyleView",
            "description_width": ""
          }
        },
        "6d3b093c50964f8085e24a0c12d0cc61": {
          "model_module": "@jupyter-widgets/controls",
          "model_name": "HBoxModel",
          "model_module_version": "1.5.0",
          "state": {
            "_dom_classes": [],
            "_model_module": "@jupyter-widgets/controls",
            "_model_module_version": "1.5.0",
            "_model_name": "HBoxModel",
            "_view_count": null,
            "_view_module": "@jupyter-widgets/controls",
            "_view_module_version": "1.5.0",
            "_view_name": "HBoxView",
            "box_style": "",
            "children": [
              "IPY_MODEL_061d7249b2b541eaaff1f14a59a721d4",
              "IPY_MODEL_8a0b1958917c4456bcb407772d4789c8",
              "IPY_MODEL_4555bd333bff432d8bc20403fd4109a7"
            ],
            "layout": "IPY_MODEL_124dd169e65b44bc9dd1ad87b79f03c7"
          }
        },
        "061d7249b2b541eaaff1f14a59a721d4": {
          "model_module": "@jupyter-widgets/controls",
          "model_name": "HTMLModel",
          "model_module_version": "1.5.0",
          "state": {
            "_dom_classes": [],
            "_model_module": "@jupyter-widgets/controls",
            "_model_module_version": "1.5.0",
            "_model_name": "HTMLModel",
            "_view_count": null,
            "_view_module": "@jupyter-widgets/controls",
            "_view_module_version": "1.5.0",
            "_view_name": "HTMLView",
            "description": "",
            "description_tooltip": null,
            "layout": "IPY_MODEL_f589ab33f27f4f838b711f26f3255b0d",
            "placeholder": "​",
            "style": "IPY_MODEL_c2363efcdfa447608e1c1a096587cbae",
            "value": "Downloading (…)/main/tokenizer.json: 100%"
          }
        },
        "8a0b1958917c4456bcb407772d4789c8": {
          "model_module": "@jupyter-widgets/controls",
          "model_name": "FloatProgressModel",
          "model_module_version": "1.5.0",
          "state": {
            "_dom_classes": [],
            "_model_module": "@jupyter-widgets/controls",
            "_model_module_version": "1.5.0",
            "_model_name": "FloatProgressModel",
            "_view_count": null,
            "_view_module": "@jupyter-widgets/controls",
            "_view_module_version": "1.5.0",
            "_view_name": "ProgressView",
            "bar_style": "success",
            "description": "",
            "description_tooltip": null,
            "layout": "IPY_MODEL_bc61bd06f47a42a2b44ff8d62bed9577",
            "max": 2748949,
            "min": 0,
            "orientation": "horizontal",
            "style": "IPY_MODEL_6c5c6f2ef74e42bd80ff9feaa18d1234",
            "value": 2748949
          }
        },
        "4555bd333bff432d8bc20403fd4109a7": {
          "model_module": "@jupyter-widgets/controls",
          "model_name": "HTMLModel",
          "model_module_version": "1.5.0",
          "state": {
            "_dom_classes": [],
            "_model_module": "@jupyter-widgets/controls",
            "_model_module_version": "1.5.0",
            "_model_name": "HTMLModel",
            "_view_count": null,
            "_view_module": "@jupyter-widgets/controls",
            "_view_module_version": "1.5.0",
            "_view_name": "HTMLView",
            "description": "",
            "description_tooltip": null,
            "layout": "IPY_MODEL_e25a8002fd3b44db81ad3296f7fa0b25",
            "placeholder": "​",
            "style": "IPY_MODEL_6d03ed6d043b4e1687cf97b414ba5c30",
            "value": " 2.75M/2.75M [00:01&lt;00:00, 1.77MB/s]"
          }
        },
        "124dd169e65b44bc9dd1ad87b79f03c7": {
          "model_module": "@jupyter-widgets/base",
          "model_name": "LayoutModel",
          "model_module_version": "1.2.0",
          "state": {
            "_model_module": "@jupyter-widgets/base",
            "_model_module_version": "1.2.0",
            "_model_name": "LayoutModel",
            "_view_count": null,
            "_view_module": "@jupyter-widgets/base",
            "_view_module_version": "1.2.0",
            "_view_name": "LayoutView",
            "align_content": null,
            "align_items": null,
            "align_self": null,
            "border": null,
            "bottom": null,
            "display": null,
            "flex": null,
            "flex_flow": null,
            "grid_area": null,
            "grid_auto_columns": null,
            "grid_auto_flow": null,
            "grid_auto_rows": null,
            "grid_column": null,
            "grid_gap": null,
            "grid_row": null,
            "grid_template_areas": null,
            "grid_template_columns": null,
            "grid_template_rows": null,
            "height": null,
            "justify_content": null,
            "justify_items": null,
            "left": null,
            "margin": null,
            "max_height": null,
            "max_width": null,
            "min_height": null,
            "min_width": null,
            "object_fit": null,
            "object_position": null,
            "order": null,
            "overflow": null,
            "overflow_x": null,
            "overflow_y": null,
            "padding": null,
            "right": null,
            "top": null,
            "visibility": null,
            "width": null
          }
        },
        "f589ab33f27f4f838b711f26f3255b0d": {
          "model_module": "@jupyter-widgets/base",
          "model_name": "LayoutModel",
          "model_module_version": "1.2.0",
          "state": {
            "_model_module": "@jupyter-widgets/base",
            "_model_module_version": "1.2.0",
            "_model_name": "LayoutModel",
            "_view_count": null,
            "_view_module": "@jupyter-widgets/base",
            "_view_module_version": "1.2.0",
            "_view_name": "LayoutView",
            "align_content": null,
            "align_items": null,
            "align_self": null,
            "border": null,
            "bottom": null,
            "display": null,
            "flex": null,
            "flex_flow": null,
            "grid_area": null,
            "grid_auto_columns": null,
            "grid_auto_flow": null,
            "grid_auto_rows": null,
            "grid_column": null,
            "grid_gap": null,
            "grid_row": null,
            "grid_template_areas": null,
            "grid_template_columns": null,
            "grid_template_rows": null,
            "height": null,
            "justify_content": null,
            "justify_items": null,
            "left": null,
            "margin": null,
            "max_height": null,
            "max_width": null,
            "min_height": null,
            "min_width": null,
            "object_fit": null,
            "object_position": null,
            "order": null,
            "overflow": null,
            "overflow_x": null,
            "overflow_y": null,
            "padding": null,
            "right": null,
            "top": null,
            "visibility": null,
            "width": null
          }
        },
        "c2363efcdfa447608e1c1a096587cbae": {
          "model_module": "@jupyter-widgets/controls",
          "model_name": "DescriptionStyleModel",
          "model_module_version": "1.5.0",
          "state": {
            "_model_module": "@jupyter-widgets/controls",
            "_model_module_version": "1.5.0",
            "_model_name": "DescriptionStyleModel",
            "_view_count": null,
            "_view_module": "@jupyter-widgets/base",
            "_view_module_version": "1.2.0",
            "_view_name": "StyleView",
            "description_width": ""
          }
        },
        "bc61bd06f47a42a2b44ff8d62bed9577": {
          "model_module": "@jupyter-widgets/base",
          "model_name": "LayoutModel",
          "model_module_version": "1.2.0",
          "state": {
            "_model_module": "@jupyter-widgets/base",
            "_model_module_version": "1.2.0",
            "_model_name": "LayoutModel",
            "_view_count": null,
            "_view_module": "@jupyter-widgets/base",
            "_view_module_version": "1.2.0",
            "_view_name": "LayoutView",
            "align_content": null,
            "align_items": null,
            "align_self": null,
            "border": null,
            "bottom": null,
            "display": null,
            "flex": null,
            "flex_flow": null,
            "grid_area": null,
            "grid_auto_columns": null,
            "grid_auto_flow": null,
            "grid_auto_rows": null,
            "grid_column": null,
            "grid_gap": null,
            "grid_row": null,
            "grid_template_areas": null,
            "grid_template_columns": null,
            "grid_template_rows": null,
            "height": null,
            "justify_content": null,
            "justify_items": null,
            "left": null,
            "margin": null,
            "max_height": null,
            "max_width": null,
            "min_height": null,
            "min_width": null,
            "object_fit": null,
            "object_position": null,
            "order": null,
            "overflow": null,
            "overflow_x": null,
            "overflow_y": null,
            "padding": null,
            "right": null,
            "top": null,
            "visibility": null,
            "width": null
          }
        },
        "6c5c6f2ef74e42bd80ff9feaa18d1234": {
          "model_module": "@jupyter-widgets/controls",
          "model_name": "ProgressStyleModel",
          "model_module_version": "1.5.0",
          "state": {
            "_model_module": "@jupyter-widgets/controls",
            "_model_module_version": "1.5.0",
            "_model_name": "ProgressStyleModel",
            "_view_count": null,
            "_view_module": "@jupyter-widgets/base",
            "_view_module_version": "1.2.0",
            "_view_name": "StyleView",
            "bar_color": null,
            "description_width": ""
          }
        },
        "e25a8002fd3b44db81ad3296f7fa0b25": {
          "model_module": "@jupyter-widgets/base",
          "model_name": "LayoutModel",
          "model_module_version": "1.2.0",
          "state": {
            "_model_module": "@jupyter-widgets/base",
            "_model_module_version": "1.2.0",
            "_model_name": "LayoutModel",
            "_view_count": null,
            "_view_module": "@jupyter-widgets/base",
            "_view_module_version": "1.2.0",
            "_view_name": "LayoutView",
            "align_content": null,
            "align_items": null,
            "align_self": null,
            "border": null,
            "bottom": null,
            "display": null,
            "flex": null,
            "flex_flow": null,
            "grid_area": null,
            "grid_auto_columns": null,
            "grid_auto_flow": null,
            "grid_auto_rows": null,
            "grid_column": null,
            "grid_gap": null,
            "grid_row": null,
            "grid_template_areas": null,
            "grid_template_columns": null,
            "grid_template_rows": null,
            "height": null,
            "justify_content": null,
            "justify_items": null,
            "left": null,
            "margin": null,
            "max_height": null,
            "max_width": null,
            "min_height": null,
            "min_width": null,
            "object_fit": null,
            "object_position": null,
            "order": null,
            "overflow": null,
            "overflow_x": null,
            "overflow_y": null,
            "padding": null,
            "right": null,
            "top": null,
            "visibility": null,
            "width": null
          }
        },
        "6d03ed6d043b4e1687cf97b414ba5c30": {
          "model_module": "@jupyter-widgets/controls",
          "model_name": "DescriptionStyleModel",
          "model_module_version": "1.5.0",
          "state": {
            "_model_module": "@jupyter-widgets/controls",
            "_model_module_version": "1.5.0",
            "_model_name": "DescriptionStyleModel",
            "_view_count": null,
            "_view_module": "@jupyter-widgets/base",
            "_view_module_version": "1.2.0",
            "_view_name": "StyleView",
            "description_width": ""
          }
        },
        "2aa477ce7e5040bc907efb685f1b26a0": {
          "model_module": "@jupyter-widgets/controls",
          "model_name": "HBoxModel",
          "model_module_version": "1.5.0",
          "state": {
            "_dom_classes": [],
            "_model_module": "@jupyter-widgets/controls",
            "_model_module_version": "1.5.0",
            "_model_name": "HBoxModel",
            "_view_count": null,
            "_view_module": "@jupyter-widgets/controls",
            "_view_module_version": "1.5.0",
            "_view_name": "HBoxView",
            "box_style": "",
            "children": [
              "IPY_MODEL_5d61afeb506642ae85ad3545847ea63e",
              "IPY_MODEL_49ac4ba72ab34bf0a44c98903ba17293",
              "IPY_MODEL_10473a92a413452c880f9e3f122cfd08"
            ],
            "layout": "IPY_MODEL_3631c87c2d7b4542bae6551be29a4561"
          }
        },
        "5d61afeb506642ae85ad3545847ea63e": {
          "model_module": "@jupyter-widgets/controls",
          "model_name": "HTMLModel",
          "model_module_version": "1.5.0",
          "state": {
            "_dom_classes": [],
            "_model_module": "@jupyter-widgets/controls",
            "_model_module_version": "1.5.0",
            "_model_name": "HTMLModel",
            "_view_count": null,
            "_view_module": "@jupyter-widgets/controls",
            "_view_module_version": "1.5.0",
            "_view_name": "HTMLView",
            "description": "",
            "description_tooltip": null,
            "layout": "IPY_MODEL_f73460d86e454fc4ae2a5ead9d338a43",
            "placeholder": "​",
            "style": "IPY_MODEL_ab272079493040a4900d52e66c86f2f9",
            "value": "Downloading (…)in/added_tokens.json: 100%"
          }
        },
        "49ac4ba72ab34bf0a44c98903ba17293": {
          "model_module": "@jupyter-widgets/controls",
          "model_name": "FloatProgressModel",
          "model_module_version": "1.5.0",
          "state": {
            "_dom_classes": [],
            "_model_module": "@jupyter-widgets/controls",
            "_model_module_version": "1.5.0",
            "_model_name": "FloatProgressModel",
            "_view_count": null,
            "_view_module": "@jupyter-widgets/controls",
            "_view_module_version": "1.5.0",
            "_view_name": "ProgressView",
            "bar_style": "success",
            "description": "",
            "description_tooltip": null,
            "layout": "IPY_MODEL_5ba7a4e397bd4128bb69afddaaec3be3",
            "max": 14,
            "min": 0,
            "orientation": "horizontal",
            "style": "IPY_MODEL_7275a1a89bcc407791bc9820daa89e35",
            "value": 14
          }
        },
        "10473a92a413452c880f9e3f122cfd08": {
          "model_module": "@jupyter-widgets/controls",
          "model_name": "HTMLModel",
          "model_module_version": "1.5.0",
          "state": {
            "_dom_classes": [],
            "_model_module": "@jupyter-widgets/controls",
            "_model_module_version": "1.5.0",
            "_model_name": "HTMLModel",
            "_view_count": null,
            "_view_module": "@jupyter-widgets/controls",
            "_view_module_version": "1.5.0",
            "_view_name": "HTMLView",
            "description": "",
            "description_tooltip": null,
            "layout": "IPY_MODEL_84b5e81f32ae4cda97583a70bd9130eb",
            "placeholder": "​",
            "style": "IPY_MODEL_c27d5b2bb91b4282a4ed18cac18ac901",
            "value": " 14.0/14.0 [00:00&lt;00:00, 455B/s]"
          }
        },
        "3631c87c2d7b4542bae6551be29a4561": {
          "model_module": "@jupyter-widgets/base",
          "model_name": "LayoutModel",
          "model_module_version": "1.2.0",
          "state": {
            "_model_module": "@jupyter-widgets/base",
            "_model_module_version": "1.2.0",
            "_model_name": "LayoutModel",
            "_view_count": null,
            "_view_module": "@jupyter-widgets/base",
            "_view_module_version": "1.2.0",
            "_view_name": "LayoutView",
            "align_content": null,
            "align_items": null,
            "align_self": null,
            "border": null,
            "bottom": null,
            "display": null,
            "flex": null,
            "flex_flow": null,
            "grid_area": null,
            "grid_auto_columns": null,
            "grid_auto_flow": null,
            "grid_auto_rows": null,
            "grid_column": null,
            "grid_gap": null,
            "grid_row": null,
            "grid_template_areas": null,
            "grid_template_columns": null,
            "grid_template_rows": null,
            "height": null,
            "justify_content": null,
            "justify_items": null,
            "left": null,
            "margin": null,
            "max_height": null,
            "max_width": null,
            "min_height": null,
            "min_width": null,
            "object_fit": null,
            "object_position": null,
            "order": null,
            "overflow": null,
            "overflow_x": null,
            "overflow_y": null,
            "padding": null,
            "right": null,
            "top": null,
            "visibility": null,
            "width": null
          }
        },
        "f73460d86e454fc4ae2a5ead9d338a43": {
          "model_module": "@jupyter-widgets/base",
          "model_name": "LayoutModel",
          "model_module_version": "1.2.0",
          "state": {
            "_model_module": "@jupyter-widgets/base",
            "_model_module_version": "1.2.0",
            "_model_name": "LayoutModel",
            "_view_count": null,
            "_view_module": "@jupyter-widgets/base",
            "_view_module_version": "1.2.0",
            "_view_name": "LayoutView",
            "align_content": null,
            "align_items": null,
            "align_self": null,
            "border": null,
            "bottom": null,
            "display": null,
            "flex": null,
            "flex_flow": null,
            "grid_area": null,
            "grid_auto_columns": null,
            "grid_auto_flow": null,
            "grid_auto_rows": null,
            "grid_column": null,
            "grid_gap": null,
            "grid_row": null,
            "grid_template_areas": null,
            "grid_template_columns": null,
            "grid_template_rows": null,
            "height": null,
            "justify_content": null,
            "justify_items": null,
            "left": null,
            "margin": null,
            "max_height": null,
            "max_width": null,
            "min_height": null,
            "min_width": null,
            "object_fit": null,
            "object_position": null,
            "order": null,
            "overflow": null,
            "overflow_x": null,
            "overflow_y": null,
            "padding": null,
            "right": null,
            "top": null,
            "visibility": null,
            "width": null
          }
        },
        "ab272079493040a4900d52e66c86f2f9": {
          "model_module": "@jupyter-widgets/controls",
          "model_name": "DescriptionStyleModel",
          "model_module_version": "1.5.0",
          "state": {
            "_model_module": "@jupyter-widgets/controls",
            "_model_module_version": "1.5.0",
            "_model_name": "DescriptionStyleModel",
            "_view_count": null,
            "_view_module": "@jupyter-widgets/base",
            "_view_module_version": "1.2.0",
            "_view_name": "StyleView",
            "description_width": ""
          }
        },
        "5ba7a4e397bd4128bb69afddaaec3be3": {
          "model_module": "@jupyter-widgets/base",
          "model_name": "LayoutModel",
          "model_module_version": "1.2.0",
          "state": {
            "_model_module": "@jupyter-widgets/base",
            "_model_module_version": "1.2.0",
            "_model_name": "LayoutModel",
            "_view_count": null,
            "_view_module": "@jupyter-widgets/base",
            "_view_module_version": "1.2.0",
            "_view_name": "LayoutView",
            "align_content": null,
            "align_items": null,
            "align_self": null,
            "border": null,
            "bottom": null,
            "display": null,
            "flex": null,
            "flex_flow": null,
            "grid_area": null,
            "grid_auto_columns": null,
            "grid_auto_flow": null,
            "grid_auto_rows": null,
            "grid_column": null,
            "grid_gap": null,
            "grid_row": null,
            "grid_template_areas": null,
            "grid_template_columns": null,
            "grid_template_rows": null,
            "height": null,
            "justify_content": null,
            "justify_items": null,
            "left": null,
            "margin": null,
            "max_height": null,
            "max_width": null,
            "min_height": null,
            "min_width": null,
            "object_fit": null,
            "object_position": null,
            "order": null,
            "overflow": null,
            "overflow_x": null,
            "overflow_y": null,
            "padding": null,
            "right": null,
            "top": null,
            "visibility": null,
            "width": null
          }
        },
        "7275a1a89bcc407791bc9820daa89e35": {
          "model_module": "@jupyter-widgets/controls",
          "model_name": "ProgressStyleModel",
          "model_module_version": "1.5.0",
          "state": {
            "_model_module": "@jupyter-widgets/controls",
            "_model_module_version": "1.5.0",
            "_model_name": "ProgressStyleModel",
            "_view_count": null,
            "_view_module": "@jupyter-widgets/base",
            "_view_module_version": "1.2.0",
            "_view_name": "StyleView",
            "bar_color": null,
            "description_width": ""
          }
        },
        "84b5e81f32ae4cda97583a70bd9130eb": {
          "model_module": "@jupyter-widgets/base",
          "model_name": "LayoutModel",
          "model_module_version": "1.2.0",
          "state": {
            "_model_module": "@jupyter-widgets/base",
            "_model_module_version": "1.2.0",
            "_model_name": "LayoutModel",
            "_view_count": null,
            "_view_module": "@jupyter-widgets/base",
            "_view_module_version": "1.2.0",
            "_view_name": "LayoutView",
            "align_content": null,
            "align_items": null,
            "align_self": null,
            "border": null,
            "bottom": null,
            "display": null,
            "flex": null,
            "flex_flow": null,
            "grid_area": null,
            "grid_auto_columns": null,
            "grid_auto_flow": null,
            "grid_auto_rows": null,
            "grid_column": null,
            "grid_gap": null,
            "grid_row": null,
            "grid_template_areas": null,
            "grid_template_columns": null,
            "grid_template_rows": null,
            "height": null,
            "justify_content": null,
            "justify_items": null,
            "left": null,
            "margin": null,
            "max_height": null,
            "max_width": null,
            "min_height": null,
            "min_width": null,
            "object_fit": null,
            "object_position": null,
            "order": null,
            "overflow": null,
            "overflow_x": null,
            "overflow_y": null,
            "padding": null,
            "right": null,
            "top": null,
            "visibility": null,
            "width": null
          }
        },
        "c27d5b2bb91b4282a4ed18cac18ac901": {
          "model_module": "@jupyter-widgets/controls",
          "model_name": "DescriptionStyleModel",
          "model_module_version": "1.5.0",
          "state": {
            "_model_module": "@jupyter-widgets/controls",
            "_model_module_version": "1.5.0",
            "_model_name": "DescriptionStyleModel",
            "_view_count": null,
            "_view_module": "@jupyter-widgets/base",
            "_view_module_version": "1.2.0",
            "_view_name": "StyleView",
            "description_width": ""
          }
        },
        "0f7d78b918944f9ca6088e1e4e460c80": {
          "model_module": "@jupyter-widgets/controls",
          "model_name": "HBoxModel",
          "model_module_version": "1.5.0",
          "state": {
            "_dom_classes": [],
            "_model_module": "@jupyter-widgets/controls",
            "_model_module_version": "1.5.0",
            "_model_name": "HBoxModel",
            "_view_count": null,
            "_view_module": "@jupyter-widgets/controls",
            "_view_module_version": "1.5.0",
            "_view_name": "HBoxView",
            "box_style": "",
            "children": [
              "IPY_MODEL_6a6c08c0a6424effa046e1f22e0e2878",
              "IPY_MODEL_577758d2cfa2412a8c47d664c8f952d1",
              "IPY_MODEL_82d090f650dc4ea1b2be0d019dddbf2a"
            ],
            "layout": "IPY_MODEL_6fac3c6038ad472ebf5a1cb6bd5dbff5"
          }
        },
        "6a6c08c0a6424effa046e1f22e0e2878": {
          "model_module": "@jupyter-widgets/controls",
          "model_name": "HTMLModel",
          "model_module_version": "1.5.0",
          "state": {
            "_dom_classes": [],
            "_model_module": "@jupyter-widgets/controls",
            "_model_module_version": "1.5.0",
            "_model_name": "HTMLModel",
            "_view_count": null,
            "_view_module": "@jupyter-widgets/controls",
            "_view_module_version": "1.5.0",
            "_view_name": "HTMLView",
            "description": "",
            "description_tooltip": null,
            "layout": "IPY_MODEL_9eb2c45d34054df68cfb13b1e3dd5f74",
            "placeholder": "​",
            "style": "IPY_MODEL_6f2ee6ac85cf49ae949d24dc3ef2e9a5",
            "value": "Downloading (…)cial_tokens_map.json: 100%"
          }
        },
        "577758d2cfa2412a8c47d664c8f952d1": {
          "model_module": "@jupyter-widgets/controls",
          "model_name": "FloatProgressModel",
          "model_module_version": "1.5.0",
          "state": {
            "_dom_classes": [],
            "_model_module": "@jupyter-widgets/controls",
            "_model_module_version": "1.5.0",
            "_model_name": "FloatProgressModel",
            "_view_count": null,
            "_view_module": "@jupyter-widgets/controls",
            "_view_module_version": "1.5.0",
            "_view_name": "ProgressView",
            "bar_style": "success",
            "description": "",
            "description_tooltip": null,
            "layout": "IPY_MODEL_df5f80dd60b84157a12efd322c505739",
            "max": 104,
            "min": 0,
            "orientation": "horizontal",
            "style": "IPY_MODEL_9be648ddb1814b2c9a88e59692e63b9e",
            "value": 104
          }
        },
        "82d090f650dc4ea1b2be0d019dddbf2a": {
          "model_module": "@jupyter-widgets/controls",
          "model_name": "HTMLModel",
          "model_module_version": "1.5.0",
          "state": {
            "_dom_classes": [],
            "_model_module": "@jupyter-widgets/controls",
            "_model_module_version": "1.5.0",
            "_model_name": "HTMLModel",
            "_view_count": null,
            "_view_module": "@jupyter-widgets/controls",
            "_view_module_version": "1.5.0",
            "_view_name": "HTMLView",
            "description": "",
            "description_tooltip": null,
            "layout": "IPY_MODEL_6c0b8946b7974f65be7c517f32ba8a34",
            "placeholder": "​",
            "style": "IPY_MODEL_4e1adb0e45684ca38275b6fdf9c412d9",
            "value": " 104/104 [00:00&lt;00:00, 3.54kB/s]"
          }
        },
        "6fac3c6038ad472ebf5a1cb6bd5dbff5": {
          "model_module": "@jupyter-widgets/base",
          "model_name": "LayoutModel",
          "model_module_version": "1.2.0",
          "state": {
            "_model_module": "@jupyter-widgets/base",
            "_model_module_version": "1.2.0",
            "_model_name": "LayoutModel",
            "_view_count": null,
            "_view_module": "@jupyter-widgets/base",
            "_view_module_version": "1.2.0",
            "_view_name": "LayoutView",
            "align_content": null,
            "align_items": null,
            "align_self": null,
            "border": null,
            "bottom": null,
            "display": null,
            "flex": null,
            "flex_flow": null,
            "grid_area": null,
            "grid_auto_columns": null,
            "grid_auto_flow": null,
            "grid_auto_rows": null,
            "grid_column": null,
            "grid_gap": null,
            "grid_row": null,
            "grid_template_areas": null,
            "grid_template_columns": null,
            "grid_template_rows": null,
            "height": null,
            "justify_content": null,
            "justify_items": null,
            "left": null,
            "margin": null,
            "max_height": null,
            "max_width": null,
            "min_height": null,
            "min_width": null,
            "object_fit": null,
            "object_position": null,
            "order": null,
            "overflow": null,
            "overflow_x": null,
            "overflow_y": null,
            "padding": null,
            "right": null,
            "top": null,
            "visibility": null,
            "width": null
          }
        },
        "9eb2c45d34054df68cfb13b1e3dd5f74": {
          "model_module": "@jupyter-widgets/base",
          "model_name": "LayoutModel",
          "model_module_version": "1.2.0",
          "state": {
            "_model_module": "@jupyter-widgets/base",
            "_model_module_version": "1.2.0",
            "_model_name": "LayoutModel",
            "_view_count": null,
            "_view_module": "@jupyter-widgets/base",
            "_view_module_version": "1.2.0",
            "_view_name": "LayoutView",
            "align_content": null,
            "align_items": null,
            "align_self": null,
            "border": null,
            "bottom": null,
            "display": null,
            "flex": null,
            "flex_flow": null,
            "grid_area": null,
            "grid_auto_columns": null,
            "grid_auto_flow": null,
            "grid_auto_rows": null,
            "grid_column": null,
            "grid_gap": null,
            "grid_row": null,
            "grid_template_areas": null,
            "grid_template_columns": null,
            "grid_template_rows": null,
            "height": null,
            "justify_content": null,
            "justify_items": null,
            "left": null,
            "margin": null,
            "max_height": null,
            "max_width": null,
            "min_height": null,
            "min_width": null,
            "object_fit": null,
            "object_position": null,
            "order": null,
            "overflow": null,
            "overflow_x": null,
            "overflow_y": null,
            "padding": null,
            "right": null,
            "top": null,
            "visibility": null,
            "width": null
          }
        },
        "6f2ee6ac85cf49ae949d24dc3ef2e9a5": {
          "model_module": "@jupyter-widgets/controls",
          "model_name": "DescriptionStyleModel",
          "model_module_version": "1.5.0",
          "state": {
            "_model_module": "@jupyter-widgets/controls",
            "_model_module_version": "1.5.0",
            "_model_name": "DescriptionStyleModel",
            "_view_count": null,
            "_view_module": "@jupyter-widgets/base",
            "_view_module_version": "1.2.0",
            "_view_name": "StyleView",
            "description_width": ""
          }
        },
        "df5f80dd60b84157a12efd322c505739": {
          "model_module": "@jupyter-widgets/base",
          "model_name": "LayoutModel",
          "model_module_version": "1.2.0",
          "state": {
            "_model_module": "@jupyter-widgets/base",
            "_model_module_version": "1.2.0",
            "_model_name": "LayoutModel",
            "_view_count": null,
            "_view_module": "@jupyter-widgets/base",
            "_view_module_version": "1.2.0",
            "_view_name": "LayoutView",
            "align_content": null,
            "align_items": null,
            "align_self": null,
            "border": null,
            "bottom": null,
            "display": null,
            "flex": null,
            "flex_flow": null,
            "grid_area": null,
            "grid_auto_columns": null,
            "grid_auto_flow": null,
            "grid_auto_rows": null,
            "grid_column": null,
            "grid_gap": null,
            "grid_row": null,
            "grid_template_areas": null,
            "grid_template_columns": null,
            "grid_template_rows": null,
            "height": null,
            "justify_content": null,
            "justify_items": null,
            "left": null,
            "margin": null,
            "max_height": null,
            "max_width": null,
            "min_height": null,
            "min_width": null,
            "object_fit": null,
            "object_position": null,
            "order": null,
            "overflow": null,
            "overflow_x": null,
            "overflow_y": null,
            "padding": null,
            "right": null,
            "top": null,
            "visibility": null,
            "width": null
          }
        },
        "9be648ddb1814b2c9a88e59692e63b9e": {
          "model_module": "@jupyter-widgets/controls",
          "model_name": "ProgressStyleModel",
          "model_module_version": "1.5.0",
          "state": {
            "_model_module": "@jupyter-widgets/controls",
            "_model_module_version": "1.5.0",
            "_model_name": "ProgressStyleModel",
            "_view_count": null,
            "_view_module": "@jupyter-widgets/base",
            "_view_module_version": "1.2.0",
            "_view_name": "StyleView",
            "bar_color": null,
            "description_width": ""
          }
        },
        "6c0b8946b7974f65be7c517f32ba8a34": {
          "model_module": "@jupyter-widgets/base",
          "model_name": "LayoutModel",
          "model_module_version": "1.2.0",
          "state": {
            "_model_module": "@jupyter-widgets/base",
            "_model_module_version": "1.2.0",
            "_model_name": "LayoutModel",
            "_view_count": null,
            "_view_module": "@jupyter-widgets/base",
            "_view_module_version": "1.2.0",
            "_view_name": "LayoutView",
            "align_content": null,
            "align_items": null,
            "align_self": null,
            "border": null,
            "bottom": null,
            "display": null,
            "flex": null,
            "flex_flow": null,
            "grid_area": null,
            "grid_auto_columns": null,
            "grid_auto_flow": null,
            "grid_auto_rows": null,
            "grid_column": null,
            "grid_gap": null,
            "grid_row": null,
            "grid_template_areas": null,
            "grid_template_columns": null,
            "grid_template_rows": null,
            "height": null,
            "justify_content": null,
            "justify_items": null,
            "left": null,
            "margin": null,
            "max_height": null,
            "max_width": null,
            "min_height": null,
            "min_width": null,
            "object_fit": null,
            "object_position": null,
            "order": null,
            "overflow": null,
            "overflow_x": null,
            "overflow_y": null,
            "padding": null,
            "right": null,
            "top": null,
            "visibility": null,
            "width": null
          }
        },
        "4e1adb0e45684ca38275b6fdf9c412d9": {
          "model_module": "@jupyter-widgets/controls",
          "model_name": "DescriptionStyleModel",
          "model_module_version": "1.5.0",
          "state": {
            "_model_module": "@jupyter-widgets/controls",
            "_model_module_version": "1.5.0",
            "_model_name": "DescriptionStyleModel",
            "_view_count": null,
            "_view_module": "@jupyter-widgets/base",
            "_view_module_version": "1.2.0",
            "_view_name": "StyleView",
            "description_width": ""
          }
        }
      }
    }
  },
  "cells": [
    {
      "cell_type": "markdown",
      "source": [
        "# GPT-2 Poetry Generator Project\n",
        "Gholamreza Dar Feb 2023"
      ],
      "metadata": {
        "id": "HjemTZGOeRis"
      }
    },
    {
      "cell_type": "markdown",
      "source": [
        "## Install libraries"
      ],
      "metadata": {
        "id": "iZ_BVtKCeO2k"
      }
    },
    {
      "cell_type": "code",
      "execution_count": null,
      "metadata": {
        "id": "itdI-HOd30UX"
      },
      "outputs": [],
      "source": [
        "!pip install transformers"
      ]
    },
    {
      "cell_type": "markdown",
      "source": [
        "## Imports"
      ],
      "metadata": {
        "id": "nNIfyusieNen"
      }
    },
    {
      "cell_type": "code",
      "source": [
        "import os\n",
        "import glob\n",
        "import json\n",
        "from pathlib import Path\n",
        "import random\n",
        "import time\n",
        "import datetime\n",
        "\n",
        "import pandas as pd\n",
        "import numpy as np\n",
        "\n",
        "import torch\n",
        "from transformers import AutoTokenizer, AutoConfig, AutoModelWithLMHead\n",
        "from transformers import AutoTokenizer, GPT2LMHeadModel, GPT2Config\n",
        "\n",
        "from tqdm import tqdm\n",
        "from IPython import display"
      ],
      "metadata": {
        "id": "ETpjJRyVRLdy"
      },
      "execution_count": 40,
      "outputs": []
    },
    {
      "cell_type": "markdown",
      "source": [
        "## Download Dataset from huggingface"
      ],
      "metadata": {
        "id": "rZy15SHQeKSG"
      }
    },
    {
      "cell_type": "code",
      "source": [
        "!wget -nc https://huggingface.co/datasets/Gholamreza/hafez/raw/main/train.csv\n",
        "!wget -nc https://huggingface.co/datasets/Gholamreza/hafez/raw/main/test.csv"
      ],
      "metadata": {
        "colab": {
          "base_uri": "https://localhost:8080/"
        },
        "id": "9Iff5btsWXtZ",
        "outputId": "0e7af88a-7a94-496e-e9d8-b6c845c33376"
      },
      "execution_count": 6,
      "outputs": [
        {
          "output_type": "stream",
          "name": "stdout",
          "text": [
            "--2023-02-25 12:13:42--  https://huggingface.co/datasets/Gholamreza/hafez/raw/main/train.csv\n",
            "Resolving huggingface.co (huggingface.co)... 3.231.67.228, 54.235.118.239, 2600:1f18:147f:e800:671:b733:ecf3:a585, ...\n",
            "Connecting to huggingface.co (huggingface.co)|3.231.67.228|:443... connected.\n",
            "HTTP request sent, awaiting response... 200 OK\n",
            "Length: 705449 (689K) [text/plain]\n",
            "Saving to: ‘train.csv’\n",
            "\n",
            "train.csv           100%[===================>] 688.92K   617KB/s    in 1.1s    \n",
            "\n",
            "2023-02-25 12:13:44 (617 KB/s) - ‘train.csv’ saved [705449/705449]\n",
            "\n",
            "--2023-02-25 12:13:44--  https://huggingface.co/datasets/Gholamreza/hafez/raw/main/test.csv\n",
            "Resolving huggingface.co (huggingface.co)... 54.235.118.239, 3.231.67.228, 2600:1f18:147f:e800:671:b733:ecf3:a585, ...\n",
            "Connecting to huggingface.co (huggingface.co)|54.235.118.239|:443... connected.\n",
            "HTTP request sent, awaiting response... 200 OK\n",
            "Length: 81522 (80K) [text/plain]\n",
            "Saving to: ‘test.csv’\n",
            "\n",
            "test.csv            100%[===================>]  79.61K   179KB/s    in 0.4s    \n",
            "\n",
            "2023-02-25 12:13:45 (179 KB/s) - ‘test.csv’ saved [81522/81522]\n",
            "\n"
          ]
        }
      ]
    },
    {
      "cell_type": "code",
      "source": [
        "train = pd.read_csv('./train.csv')\n",
        "test = pd.read_csv('./test.csv')"
      ],
      "metadata": {
        "id": "c1u8xjw44QPq"
      },
      "execution_count": 7,
      "outputs": []
    },
    {
      "cell_type": "markdown",
      "source": [
        "## Select Model"
      ],
      "metadata": {
        "id": "n43GAmzde-C-"
      }
    },
    {
      "cell_type": "code",
      "source": [
        "model_name = \"HooshvareLab/gpt2-fa\""
      ],
      "metadata": {
        "id": "8YbicET6fCxj"
      },
      "execution_count": 8,
      "outputs": []
    },
    {
      "cell_type": "markdown",
      "source": [
        "## Tokenizer"
      ],
      "metadata": {
        "id": "NGC7a9W-fD7f"
      }
    },
    {
      "cell_type": "code",
      "source": [
        "tokenizer = AutoTokenizer.from_pretrained(model_name)\n",
        "\n",
        "tokenizer.add_special_tokens({\n",
        "    \"bos_token\": '<bos>',\n",
        "    \"eos_token\": '<eos>', \n",
        "    \"pad_token\": '<pad>',\n",
        "    \"unk_token\": '<unk>'\n",
        "})"
      ],
      "metadata": {
        "id": "RkTvr9XS4QAd",
        "colab": {
          "base_uri": "https://localhost:8080/",
          "height": 315,
          "referenced_widgets": [
            "3505660d4e634f33ac36ab9d0b2defd1",
            "061bd8d1759b4012a6205fa5b38268da",
            "a7a51a7b86574551b790381d30babac6",
            "daa0d2410fa34f25b57f427f549dfcda",
            "5d53565f847048e791177cf09e26de77",
            "4747b7e6d9b448478ba457bd8df76b8f",
            "fa036274fe524e29a43d5f77192bc773",
            "74be091917f0470f8e69679a01f60864",
            "9e820c049f804cc3a58f535233a1b6d3",
            "b95d3c7840594f15bf6eeb17a64faa06",
            "16f434a16a954424abbfaeb79326cd39",
            "0a496c05872649fa906a40bd0d886c06",
            "3c01131687b441aba3ec63c72c47597e",
            "2243be1d186e477ebea518e5d4f1cc52",
            "ee3a3eab27bf419badb7ab54cdfc2730",
            "5f6cdf95f258407ea38620377873e114",
            "38854ce448744b3285db3ea8320495d2",
            "93fd66a281d94f7ea295ce15314f8844",
            "e5e774cce4f54653a2cb8564049ef0eb",
            "48c96dee593a4a0aa281c3d4aa97cd80",
            "34b2a2474d794a16b99ab5685d03f96a",
            "fa8ebd92418f4523b9c634163c09d0bf",
            "b2b10524477942ecae423d30a4bd11c6",
            "43015a8b00c248e5aac764429a75aeca",
            "bc8487e8264c4181aa017ab374de985c",
            "e9354674f93e451b95aa5d9311ff9c28",
            "7111b1a320b54cea952df5fc71ecaf29",
            "aef4cc039b6d4ec09cb0494ff1acc7c5",
            "b2af9e0d5a744b47a7868b0e7481053b",
            "092ce384eb8647f38af24390579baadc",
            "909a0cce5fbf48f3beddefb327a31a1f",
            "03ce68ab6f7b4efb8de80310b402459a",
            "b53df964175b46b79a73a24348405762",
            "a20f5d9f60d142ee8ee4194d6148d728",
            "59df5bb94cc9409486d6c671723d0511",
            "17f02cfbc17545aa8b32f5255800ed18",
            "6b0d6ae0c5fa4c7fbe5710b718008f32",
            "45545026299942ebbfde41936f2f05ea",
            "88a56972d2d748238a85f91a14254886",
            "3c67a844aadf43d0988bfd79cab20096",
            "99324e4d11054e608b159b3f2b20e079",
            "2a7b343a66d54d2e880a109ff6ba0ac5",
            "119eab9b1c1b4e6589537614cc3eb924",
            "17da990d860642d796a7bb91cc878a7b",
            "6d3b093c50964f8085e24a0c12d0cc61",
            "061d7249b2b541eaaff1f14a59a721d4",
            "8a0b1958917c4456bcb407772d4789c8",
            "4555bd333bff432d8bc20403fd4109a7",
            "124dd169e65b44bc9dd1ad87b79f03c7",
            "f589ab33f27f4f838b711f26f3255b0d",
            "c2363efcdfa447608e1c1a096587cbae",
            "bc61bd06f47a42a2b44ff8d62bed9577",
            "6c5c6f2ef74e42bd80ff9feaa18d1234",
            "e25a8002fd3b44db81ad3296f7fa0b25",
            "6d03ed6d043b4e1687cf97b414ba5c30",
            "2aa477ce7e5040bc907efb685f1b26a0",
            "5d61afeb506642ae85ad3545847ea63e",
            "49ac4ba72ab34bf0a44c98903ba17293",
            "10473a92a413452c880f9e3f122cfd08",
            "3631c87c2d7b4542bae6551be29a4561",
            "f73460d86e454fc4ae2a5ead9d338a43",
            "ab272079493040a4900d52e66c86f2f9",
            "5ba7a4e397bd4128bb69afddaaec3be3",
            "7275a1a89bcc407791bc9820daa89e35",
            "84b5e81f32ae4cda97583a70bd9130eb",
            "c27d5b2bb91b4282a4ed18cac18ac901",
            "0f7d78b918944f9ca6088e1e4e460c80",
            "6a6c08c0a6424effa046e1f22e0e2878",
            "577758d2cfa2412a8c47d664c8f952d1",
            "82d090f650dc4ea1b2be0d019dddbf2a",
            "6fac3c6038ad472ebf5a1cb6bd5dbff5",
            "9eb2c45d34054df68cfb13b1e3dd5f74",
            "6f2ee6ac85cf49ae949d24dc3ef2e9a5",
            "df5f80dd60b84157a12efd322c505739",
            "9be648ddb1814b2c9a88e59692e63b9e",
            "6c0b8946b7974f65be7c517f32ba8a34",
            "4e1adb0e45684ca38275b6fdf9c412d9"
          ]
        },
        "outputId": "797ccb7f-9dbb-4c22-bdd5-6c95a9358cde"
      },
      "execution_count": 9,
      "outputs": [
        {
          "output_type": "display_data",
          "data": {
            "text/plain": [
              "Downloading (…)okenizer_config.json:   0%|          | 0.00/728 [00:00<?, ?B/s]"
            ],
            "application/vnd.jupyter.widget-view+json": {
              "version_major": 2,
              "version_minor": 0,
              "model_id": "3505660d4e634f33ac36ab9d0b2defd1"
            }
          },
          "metadata": {}
        },
        {
          "output_type": "display_data",
          "data": {
            "text/plain": [
              "Downloading (…)lve/main/config.json:   0%|          | 0.00/808 [00:00<?, ?B/s]"
            ],
            "application/vnd.jupyter.widget-view+json": {
              "version_major": 2,
              "version_minor": 0,
              "model_id": "0a496c05872649fa906a40bd0d886c06"
            }
          },
          "metadata": {}
        },
        {
          "output_type": "display_data",
          "data": {
            "text/plain": [
              "Downloading (…)olve/main/vocab.json:   0%|          | 0.00/1.16M [00:00<?, ?B/s]"
            ],
            "application/vnd.jupyter.widget-view+json": {
              "version_major": 2,
              "version_minor": 0,
              "model_id": "b2b10524477942ecae423d30a4bd11c6"
            }
          },
          "metadata": {}
        },
        {
          "output_type": "display_data",
          "data": {
            "text/plain": [
              "Downloading (…)olve/main/merges.txt:   0%|          | 0.00/875k [00:00<?, ?B/s]"
            ],
            "application/vnd.jupyter.widget-view+json": {
              "version_major": 2,
              "version_minor": 0,
              "model_id": "a20f5d9f60d142ee8ee4194d6148d728"
            }
          },
          "metadata": {}
        },
        {
          "output_type": "display_data",
          "data": {
            "text/plain": [
              "Downloading (…)/main/tokenizer.json:   0%|          | 0.00/2.75M [00:00<?, ?B/s]"
            ],
            "application/vnd.jupyter.widget-view+json": {
              "version_major": 2,
              "version_minor": 0,
              "model_id": "6d3b093c50964f8085e24a0c12d0cc61"
            }
          },
          "metadata": {}
        },
        {
          "output_type": "display_data",
          "data": {
            "text/plain": [
              "Downloading (…)in/added_tokens.json:   0%|          | 0.00/14.0 [00:00<?, ?B/s]"
            ],
            "application/vnd.jupyter.widget-view+json": {
              "version_major": 2,
              "version_minor": 0,
              "model_id": "2aa477ce7e5040bc907efb685f1b26a0"
            }
          },
          "metadata": {}
        },
        {
          "output_type": "display_data",
          "data": {
            "text/plain": [
              "Downloading (…)cial_tokens_map.json:   0%|          | 0.00/104 [00:00<?, ?B/s]"
            ],
            "application/vnd.jupyter.widget-view+json": {
              "version_major": 2,
              "version_minor": 0,
              "model_id": "0f7d78b918944f9ca6088e1e4e460c80"
            }
          },
          "metadata": {}
        },
        {
          "output_type": "execute_result",
          "data": {
            "text/plain": [
              "2"
            ]
          },
          "metadata": {},
          "execution_count": 9
        }
      ]
    },
    {
      "cell_type": "code",
      "source": [
        "print(tokenizer.encode(\"یه توپ دارم قلقلیه. حافظا مرد نکونام نمیرد هرگز\"))\n",
        "print(tokenizer.encode(\"<|startoftext|>\")) # A special token that we are going to use to indicate start of mesra"
      ],
      "metadata": {
        "id": "malm9HMd4P9s",
        "colab": {
          "base_uri": "https://localhost:8080/"
        },
        "outputId": "0d51b67a-daed-4902-fbad-7dcd94fcf597"
      },
      "execution_count": 12,
      "outputs": [
        {
          "output_type": "stream",
          "name": "stdout",
          "text": [
            "[657, 4449, 3080, 1679, 299, 1075, 24, 6897, 268, 718, 33694, 15561, 275, 3776]\n",
            "[6]\n"
          ]
        }
      ]
    },
    {
      "cell_type": "code",
      "source": [
        "# Maximum length of a mesra\n",
        "max_seq = 15"
      ],
      "metadata": {
        "id": "rKjYlYHz4P1t"
      },
      "execution_count": 13,
      "outputs": []
    },
    {
      "cell_type": "markdown",
      "source": [
        "## Custom Dataset"
      ],
      "metadata": {
        "id": "VWUAiQxBgHzf"
      }
    },
    {
      "cell_type": "code",
      "source": [
        "from torch.utils.data import Dataset\n",
        "torch.manual_seed(69)\n",
        "\n",
        "# A custom dataset class\n",
        "class PoemDataset(Dataset):\n",
        "    def __init__(self, mesra_1_list, mesra_2_list, tokenizer, max_length=1024):\n",
        "\n",
        "        self.tokenizer = tokenizer\n",
        "        self.input_ids = []\n",
        "        self.attn_masks = []\n",
        "\n",
        "        for mesra_1, mesra_2 in zip(mesra_1_list, mesra_2_list):\n",
        "            encodings_dict = tokenizer('' + mesra_1 + '<sep>' + mesra_2 + '',\n",
        "                                       truncation=True,\n",
        "                                       max_length=max_length,\n",
        "                                       padding=\"max_length\")\n",
        "\n",
        "            self.input_ids.append(torch.tensor(encodings_dict['input_ids']))\n",
        "            self.attn_masks.append(torch.tensor(encodings_dict['attention_mask']))\n",
        "\n",
        "    def __len__(self):\n",
        "        return len(self.input_ids)\n",
        "\n",
        "    def __getitem__(self, idx):\n",
        "        return self.input_ids[idx], self.attn_masks[idx]"
      ],
      "metadata": {
        "id": "RSE2_6_q4PzX"
      },
      "execution_count": 14,
      "outputs": []
    },
    {
      "cell_type": "code",
      "source": [
        "# Generate a list of mesras (yeki darmioon!)\n",
        "groups = train.groupby(by='v_position')\n",
        "mesra_1_list, mesra_2_list = [], []\n",
        "for grp, poems in groups:\n",
        "    if grp == 0:\n",
        "        mesra_1_list = list(poems['poem_text'])\n",
        "    else:\n",
        "        mesra_2_list = list(poems['poem_text'])"
      ],
      "metadata": {
        "id": "YYHRXj2Dfego"
      },
      "execution_count": 15,
      "outputs": []
    },
    {
      "cell_type": "code",
      "source": [
        "# A sample beyt\n",
        "mesra_1_list[0], mesra_2_list[0]"
      ],
      "metadata": {
        "colab": {
          "base_uri": "https://localhost:8080/"
        },
        "id": "4oJWeQGKgYBG",
        "outputId": "9f779460-46f6-41b3-a9a5-2cf17f63241c"
      },
      "execution_count": 22,
      "outputs": [
        {
          "output_type": "execute_result",
          "data": {
            "text/plain": [
              "('جز نقش تو در نظر نیامد ما را', 'جز کوی تو رهگذر نیامد ما را')"
            ]
          },
          "metadata": {},
          "execution_count": 22
        }
      ]
    },
    {
      "cell_type": "markdown",
      "source": [
        "## Train Test Split"
      ],
      "metadata": {
        "id": "Z52WRmlihca0"
      }
    },
    {
      "cell_type": "code",
      "source": [
        "from torch.utils.data import random_split\n",
        "\n",
        "dataset = PoemDataset(mesra_1_list, mesra_2_list, tokenizer, max_length=max_seq)\n",
        "\n",
        "# Split into training and validation sets\n",
        "train_size = int(0.9 * len(dataset))\n",
        "val_size = len(dataset) - train_size\n",
        "train_dataset, val_dataset = random_split(dataset, [train_size, val_size])\n",
        "\n",
        "print(f\"train size: {len(train_dataset)}\")\n",
        "print(f\"validation size: {len(val_dataset)}\")"
      ],
      "metadata": {
        "id": "eytMXhU94Pww",
        "colab": {
          "base_uri": "https://localhost:8080/"
        },
        "outputId": "da021411-566e-4187-c8f7-d9dc0a81988a"
      },
      "execution_count": 23,
      "outputs": [
        {
          "output_type": "stream",
          "name": "stdout",
          "text": [
            "train size: 3874\n",
            "validation size: 431\n"
          ]
        }
      ]
    },
    {
      "cell_type": "markdown",
      "source": [
        "## Dataloaders"
      ],
      "metadata": {
        "id": "k8B6AmoghegA"
      }
    },
    {
      "cell_type": "code",
      "source": [
        "from torch.utils.data import DataLoader, RandomSampler, SequentialSampler\n",
        "\n",
        "train_dataloader = DataLoader(\n",
        "    train_dataset,\n",
        "    sampler=RandomSampler(train_dataset),\n",
        "    batch_size=8\n",
        ")\n",
        "\n",
        "validation_dataloader = DataLoader(\n",
        "    val_dataset,\n",
        "    sampler=SequentialSampler(val_dataset),\n",
        "    batch_size=8\n",
        ")"
      ],
      "metadata": {
        "id": "4nErXhn14PuF"
      },
      "execution_count": 24,
      "outputs": []
    },
    {
      "cell_type": "markdown",
      "source": [
        "## Create the model (gpt2-fa)"
      ],
      "metadata": {
        "id": "ct_rDiZ7hknf"
      }
    },
    {
      "cell_type": "code",
      "source": [
        "config = AutoConfig.from_pretrained(\n",
        "    model_name,\n",
        "    bos_token_id=tokenizer.encode('<bos>')[0], \n",
        "    eos_token_id=tokenizer.encode('<eos>')[0], \n",
        "    pad_token_id=tokenizer.encode('<pad>')[0],\n",
        "    unk_token_id=tokenizer.encode('<unk>')[0],\n",
        ")"
      ],
      "metadata": {
        "id": "JfcMzRuUiYcv"
      },
      "execution_count": 25,
      "outputs": []
    },
    {
      "cell_type": "markdown",
      "source": [
        "### Download the weights"
      ],
      "metadata": {
        "id": "34WjYhKEhrNl"
      }
    },
    {
      "cell_type": "code",
      "source": [
        "!wget \"https://huggingface.co/HooshvareLab/gpt2-fa/resolve/main/pytorch_model.bin\" -P /content/gpt2/\n",
        "!wget \"https://huggingface.co/HooshvareLab/gpt2-fa/resolve/main/config.json\" -P /content/gpt2/"
      ],
      "metadata": {
        "colab": {
          "base_uri": "https://localhost:8080/"
        },
        "id": "ewSGkvGQi6S_",
        "outputId": "7a5e027d-1b8a-46c6-ee4a-83fa9c89913f"
      },
      "execution_count": 26,
      "outputs": [
        {
          "output_type": "stream",
          "name": "stdout",
          "text": [
            "--2023-02-25 12:25:50--  https://huggingface.co/HooshvareLab/gpt2-fa/resolve/main/pytorch_model.bin\n",
            "Resolving huggingface.co (huggingface.co)... 54.235.118.239, 3.231.67.228, 2600:1f18:147f:e850:e203:c458:10cd:fc3c, ...\n",
            "Connecting to huggingface.co (huggingface.co)|54.235.118.239|:443... connected.\n",
            "HTTP request sent, awaiting response... 302 Found\n",
            "Location: https://cdn-lfs.huggingface.co/HooshvareLab/gpt2-fa/46b0b806c740a0f0a9f056f5574c5fa896166fe844945fd3c849bf34365e5060?response-content-disposition=attachment%3B+filename*%3DUTF-8%27%27pytorch_model.bin%3B+filename%3D%22pytorch_model.bin%22%3B&response-content-type=application%2Foctet-stream&Expires=1677587152&Policy=eyJTdGF0ZW1lbnQiOlt7IlJlc291cmNlIjoiaHR0cHM6Ly9jZG4tbGZzLmh1Z2dpbmdmYWNlLmNvL0hvb3NodmFyZUxhYi9ncHQyLWZhLzQ2YjBiODA2Yzc0MGEwZjBhOWYwNTZmNTU3NGM1ZmE4OTYxNjZmZTg0NDk0NWZkM2M4NDliZjM0MzY1ZTUwNjA%7EcmVzcG9uc2UtY29udGVudC1kaXNwb3NpdGlvbj0qJnJlc3BvbnNlLWNvbnRlbnQtdHlwZT0qIiwiQ29uZGl0aW9uIjp7IkRhdGVMZXNzVGhhbiI6eyJBV1M6RXBvY2hUaW1lIjoxNjc3NTg3MTUyfX19XX0_&Signature=IXisxrtFmtUBHT2YzBu1Uq6Hg5FyGoNHvulWlUHP0J3Q9Bp9dNlwRnp1ZRG-gtx5bVMbT5GP2rAdI0vdJ6xXwC6VFvp0wpg7PHZwvnlSV6M%7EfDMawaudHc7t54szf8dHY2AMQie4Pboap7zxtfD0I-Wpn4gUGghRM02wHNTJ%7E6YSrtM5cIZYZq9YYRZtmxU2x3g3vjL5nc-FBMsLcRf9SOyNmxepCXdpfb5xE7EBL1hhsJvfV7MYN4rB2VBrgHZkh93ODKFJI1UblwCNJ3HgDy8JIONFEz0xpG9N2020BXNqbrKmpOHgVkwjGhCfghC9J5vGZavKHdBPYJD8XokCmQ__&Key-Pair-Id=KVTP0A1DKRTAX [following]\n",
            "--2023-02-25 12:25:51--  https://cdn-lfs.huggingface.co/HooshvareLab/gpt2-fa/46b0b806c740a0f0a9f056f5574c5fa896166fe844945fd3c849bf34365e5060?response-content-disposition=attachment%3B+filename*%3DUTF-8%27%27pytorch_model.bin%3B+filename%3D%22pytorch_model.bin%22%3B&response-content-type=application%2Foctet-stream&Expires=1677587152&Policy=eyJTdGF0ZW1lbnQiOlt7IlJlc291cmNlIjoiaHR0cHM6Ly9jZG4tbGZzLmh1Z2dpbmdmYWNlLmNvL0hvb3NodmFyZUxhYi9ncHQyLWZhLzQ2YjBiODA2Yzc0MGEwZjBhOWYwNTZmNTU3NGM1ZmE4OTYxNjZmZTg0NDk0NWZkM2M4NDliZjM0MzY1ZTUwNjA%7EcmVzcG9uc2UtY29udGVudC1kaXNwb3NpdGlvbj0qJnJlc3BvbnNlLWNvbnRlbnQtdHlwZT0qIiwiQ29uZGl0aW9uIjp7IkRhdGVMZXNzVGhhbiI6eyJBV1M6RXBvY2hUaW1lIjoxNjc3NTg3MTUyfX19XX0_&Signature=IXisxrtFmtUBHT2YzBu1Uq6Hg5FyGoNHvulWlUHP0J3Q9Bp9dNlwRnp1ZRG-gtx5bVMbT5GP2rAdI0vdJ6xXwC6VFvp0wpg7PHZwvnlSV6M%7EfDMawaudHc7t54szf8dHY2AMQie4Pboap7zxtfD0I-Wpn4gUGghRM02wHNTJ%7E6YSrtM5cIZYZq9YYRZtmxU2x3g3vjL5nc-FBMsLcRf9SOyNmxepCXdpfb5xE7EBL1hhsJvfV7MYN4rB2VBrgHZkh93ODKFJI1UblwCNJ3HgDy8JIONFEz0xpG9N2020BXNqbrKmpOHgVkwjGhCfghC9J5vGZavKHdBPYJD8XokCmQ__&Key-Pair-Id=KVTP0A1DKRTAX\n",
            "Resolving cdn-lfs.huggingface.co (cdn-lfs.huggingface.co)... 13.227.254.33, 13.227.254.47, 13.227.254.123, ...\n",
            "Connecting to cdn-lfs.huggingface.co (cdn-lfs.huggingface.co)|13.227.254.33|:443... connected.\n",
            "HTTP request sent, awaiting response... 200 OK\n",
            "Length: 485044198 (463M) [application/octet-stream]\n",
            "Saving to: ‘/content/gpt2/pytorch_model.bin’\n",
            "\n",
            "pytorch_model.bin   100%[===================>] 462.57M   128MB/s    in 3.4s    \n",
            "\n",
            "2023-02-25 12:25:55 (134 MB/s) - ‘/content/gpt2/pytorch_model.bin’ saved [485044198/485044198]\n",
            "\n",
            "--2023-02-25 12:25:55--  https://huggingface.co/HooshvareLab/gpt2-fa/resolve/main/config.json\n",
            "Resolving huggingface.co (huggingface.co)... 3.231.67.228, 54.235.118.239, 2600:1f18:147f:e850:e203:c458:10cd:fc3c, ...\n",
            "Connecting to huggingface.co (huggingface.co)|3.231.67.228|:443... connected.\n",
            "HTTP request sent, awaiting response... 200 OK\n",
            "Length: 808 [text/plain]\n",
            "Saving to: ‘/content/gpt2/config.json’\n",
            "\n",
            "config.json         100%[===================>]     808  --.-KB/s    in 0s      \n",
            "\n",
            "2023-02-25 12:25:56 (202 MB/s) - ‘/content/gpt2/config.json’ saved [808/808]\n",
            "\n"
          ]
        }
      ]
    },
    {
      "cell_type": "markdown",
      "source": [
        "### Download the config"
      ],
      "metadata": {
        "id": "BtM_sXW0hthE"
      }
    },
    {
      "cell_type": "code",
      "source": [
        "!wget \"https://huggingface.co/HooshvareLab/gpt2-fa/resolve/main/config.json\" -P /content/gpt2/"
      ],
      "metadata": {
        "colab": {
          "base_uri": "https://localhost:8080/"
        },
        "id": "vMtmPp1xvl3N",
        "outputId": "549d986d-af76-447d-b8df-0e63c886cecb"
      },
      "execution_count": 27,
      "outputs": [
        {
          "output_type": "stream",
          "name": "stdout",
          "text": [
            "--2023-02-25 12:25:56--  https://huggingface.co/HooshvareLab/gpt2-fa/resolve/main/config.json\n",
            "Resolving huggingface.co (huggingface.co)... 54.235.118.239, 3.231.67.228, 2600:1f18:147f:e850:e203:c458:10cd:fc3c, ...\n",
            "Connecting to huggingface.co (huggingface.co)|54.235.118.239|:443... connected.\n",
            "HTTP request sent, awaiting response... 200 OK\n",
            "Length: 808 [text/plain]\n",
            "Saving to: ‘/content/gpt2/config.json.1’\n",
            "\n",
            "config.json.1       100%[===================>]     808  --.-KB/s    in 0s      \n",
            "\n",
            "2023-02-25 12:25:57 (144 MB/s) - ‘/content/gpt2/config.json.1’ saved [808/808]\n",
            "\n"
          ]
        }
      ]
    },
    {
      "cell_type": "markdown",
      "source": [
        "### Load the model weights"
      ],
      "metadata": {
        "id": "9cOBSUuOiCUR"
      }
    },
    {
      "cell_type": "code",
      "source": [
        "import random\n",
        "from transformers import GPT2LMHeadModel, GPT2Config\n",
        "import numpy as np\n",
        "\n",
        "# Loading the downloaded GPT2-fa model\n",
        "configuration = GPT2Config.from_pretrained('./gpt2', output_hidden_states=False)\n",
        "\n",
        "# Create the instance of the model and set the token size embedding length\n",
        "model = GPT2LMHeadModel.from_pretrained(\"./gpt2\", config=configuration)\n",
        "model.resize_token_embeddings(len(tokenizer))\n",
        "\n",
        "# Move the model weights to gpu\n",
        "device = torch.device(\"cuda\")\n",
        "model.cuda()\n",
        "\n",
        "# random seed\n",
        "seed_val = 69\n",
        "\n",
        "random.seed(seed_val)\n",
        "np.random.seed(seed_val)\n",
        "torch.manual_seed(seed_val)\n",
        "torch.cuda.manual_seed_all(seed_val)"
      ],
      "metadata": {
        "id": "M0OuEZx24PrV"
      },
      "execution_count": 50,
      "outputs": []
    },
    {
      "cell_type": "markdown",
      "source": [
        "### Hyperparams"
      ],
      "metadata": {
        "id": "lmoOaxGTiEeH"
      }
    },
    {
      "cell_type": "code",
      "source": [
        "epochs = 10\n",
        "warmup_steps = 1e2\n",
        "sample_every = 485"
      ],
      "metadata": {
        "id": "PXDrinT44Po8"
      },
      "execution_count": 51,
      "outputs": []
    },
    {
      "cell_type": "markdown",
      "source": [
        "### Optimizer"
      ],
      "metadata": {
        "id": "Q8ewXtc5h_7N"
      }
    },
    {
      "cell_type": "code",
      "source": [
        "from transformers import AdamW\n",
        "\n",
        "# Optimizer\n",
        "optimizer = AdamW(\n",
        "    model.parameters(),\n",
        "    lr=5e-4,\n",
        "    eps=1e-8\n",
        ")"
      ],
      "metadata": {
        "id": "M45afMNw4Pn2"
      },
      "execution_count": 52,
      "outputs": []
    },
    {
      "cell_type": "code",
      "source": [
        "from transformers import get_linear_schedule_with_warmup\n",
        "\n",
        "total_steps = len(train_dataloader) * epochs\n",
        "\n",
        "scheduler = get_linear_schedule_with_warmup(\n",
        "    optimizer,\n",
        "    num_warmup_steps=warmup_steps,\n",
        "    num_training_steps=total_steps)"
      ],
      "metadata": {
        "id": "65ucZPR64Pja"
      },
      "execution_count": 53,
      "outputs": []
    },
    {
      "cell_type": "code",
      "source": [
        "mesra_1 = mesra_1_list[np.random.randint(0, len(mesra_1_list))]\n",
        "sample_input = f\"{mesra_1}<|startoftext|>\"\n",
        "print()\n",
        "print(\"Sample input\")\n",
        "print(sample_input)\n",
        "\n",
        "sample_input_ids = torch.tensor(tokenizer([sample_input])[\"input_ids\"])\n",
        "sample_input_ids = sample_input_ids.to(device)\n",
        "\n",
        "sample_outputs = model.generate(\n",
        "    input_ids=sample_input_ids,\n",
        "    do_sample=True,\n",
        "    top_k=50,\n",
        "    max_length=50,\n",
        "    top_p=0.95,\n",
        "    num_return_sequences=1\n",
        ")\n",
        "\n",
        "gen_sample_output = tokenizer.decode(sample_outputs[0], skip_special_tokens=False)\n",
        "\n",
        "print(f'Sample output: {gen_sample_output}')"
      ],
      "metadata": {
        "id": "QcqKbKwV4Pgy",
        "colab": {
          "base_uri": "https://localhost:8080/"
        },
        "outputId": "7e28ed36-11b2-4b26-d374-1f4894477a14"
      },
      "execution_count": 54,
      "outputs": [
        {
          "output_type": "stream",
          "name": "stderr",
          "text": [
            "The attention mask and the pad token id were not set. As a consequence, you may observe unexpected behavior. Please pass your input's `attention_mask` to obtain reliable results.\n",
            "Setting `pad_token_id` to `eos_token_id`:5 for open-end generation.\n"
          ]
        },
        {
          "output_type": "stream",
          "name": "stdout",
          "text": [
            "\n",
            "Sample input\n",
            "ای دل گر از آن چاه زنخدان به درآیی<|startoftext|>\n",
            "Sample output: ای دل گر از آن چاه زنخدان به درآیی<|startoftext|> می‌آید. «در آن چاه زنخدان‌ها و در آن چاه زنی، همهٔ کسانی که از دل آن چاه زنخشان می‌کنند، در آن چاه\n"
          ]
        }
      ]
    },
    {
      "cell_type": "markdown",
      "source": [
        "## Training"
      ],
      "metadata": {
        "id": "_8ja3qw7imUn"
      }
    },
    {
      "cell_type": "code",
      "source": [
        "# Utility function to format time (from pytorch examples)\n",
        "def format_time(elapsed):\n",
        "    return str(datetime.timedelta(seconds=int(round((elapsed)))))\n",
        "\n",
        "total_t0 = time.time()\n",
        "\n",
        "training_stats = []\n",
        "\n",
        "model = model.to(device)\n",
        "\n",
        "for epoch_i in tqdm(range(0, epochs), position=0):\n",
        "\n",
        "    print(f'Epoch {epoch_i + 1} / {epochs}')\n",
        "\n",
        "    # 1. Train Step\n",
        "    t0 = time.time()\n",
        "    total_train_loss = 0\n",
        "    # Set the model in training mode\n",
        "    model.train()\n",
        "    for step, batch in tqdm(enumerate(train_dataloader), total=len(train_dataloader), position=0):\n",
        "\n",
        "        # Move to GPU\n",
        "        b_input_ids = batch[0].to(device)\n",
        "        b_labels = batch[0].to(device)\n",
        "        b_masks = batch[1].to(device)\n",
        "\n",
        "        # Zero grad before backprop\n",
        "        model.zero_grad()\n",
        "\n",
        "        # Calculate the Loss\n",
        "        outputs = model(b_input_ids, labels=b_labels, attention_mask=b_masks, token_type_ids=None)\n",
        "        loss = outputs[0]\n",
        "        batch_loss = loss.item()\n",
        "        total_train_loss += batch_loss\n",
        "\n",
        "        # Generate a  sample every epoch.\n",
        "        if step == 0:\n",
        "            elapsed = format_time(time.time() - t0)\n",
        "            print()\n",
        "            print(f'Batch {step} / {len(train_dataloader)}. Loss:{batch_loss}. Time:{elapsed}')\n",
        "\n",
        "            # Set the model in eval mode\n",
        "            model.eval()\n",
        "\n",
        "            sample_mesra_1 = mesra_1_list[np.random.randint(0, len(mesra_1_list))]\n",
        "            sample_input = f\"{sample_mesra_1}<|startoftext|>\"\n",
        "            sample_input_ids = torch.tensor(tokenizer([sample_input])[\"input_ids\"])\n",
        "            sample_input_ids = sample_input_ids.to(device)\n",
        "\n",
        "            sample_outputs = model.generate(\n",
        "                input_ids=sample_input_ids,\n",
        "                do_sample=True,\n",
        "                top_k=50,\n",
        "                max_length=max_seq,\n",
        "                top_p=0.95,\n",
        "                num_return_sequences=1,\n",
        "                pad_token_id=tokenizer.eos_token_id\n",
        "            )\n",
        "            \n",
        "            for i, output in enumerate(sample_outputs):\n",
        "                o = tokenizer.decode(output, skip_special_tokens=False)\n",
        "                o = o.replace(\"<|startoftext|>\", \"    \")\n",
        "\n",
        "            print()\n",
        "            print(f'Sample output: {o}')\n",
        "            print()\n",
        "\n",
        "            # Set the model in training mode\n",
        "            model.train()\n",
        "\n",
        "        # Backpropagation\n",
        "        loss.backward()\n",
        "        optimizer.step()\n",
        "        scheduler.step()\n",
        "\n",
        "    # Calculate the average loss over all of the batches.\n",
        "    avg_train_loss = total_train_loss / len(train_dataloader)\n",
        "\n",
        "    # Measure elapsed time\n",
        "    training_time = format_time(time.time() - t0)\n",
        "\n",
        "    print()\n",
        "    print(f'Average Training Loss: {avg_train_loss}. Epoch time: {training_time}')\n",
        "    print()\n",
        "\n",
        "    # 2. Evaluation Step\n",
        "    t0 = time.time()\n",
        "    model.eval()\n",
        "    total_eval_loss = 0\n",
        "    nb_eval_steps = 0\n",
        "\n",
        "    for batch in tqdm(validation_dataloader, total=len(validation_dataloader), position=0):\n",
        "\n",
        "        b_input_ids = batch[0].to(device)\n",
        "        b_labels = batch[0].to(device)\n",
        "        b_masks = batch[1].to(device)\n",
        "\n",
        "        with torch.no_grad():\n",
        "\n",
        "            outputs = model(b_input_ids, attention_mask=b_masks, labels=b_labels)\n",
        "\n",
        "            loss = outputs[0]\n",
        "\n",
        "        batch_loss = loss.item()\n",
        "        total_eval_loss += batch_loss\n",
        "\n",
        "    avg_val_loss = total_eval_loss / len(validation_dataloader)\n",
        "\n",
        "    validation_time = format_time(time.time() - t0)\n",
        "\n",
        "    print()\n",
        "    print(f'Validation loss: {avg_val_loss}. Validation Time: {validation_time}')\n",
        "    print()\n",
        "\n",
        "    training_stats.append(\n",
        "        {\n",
        "            'epoch': epoch_i + 1,\n",
        "            'Training Loss': avg_train_loss,\n",
        "            'Valid. Loss': avg_val_loss,\n",
        "            'Training Time': training_time,\n",
        "            'Validation Time': validation_time\n",
        "        }\n",
        "    )\n",
        "\n",
        "print(f'Total training took {format_time(time.time()-total_t0)}')"
      ],
      "metadata": {
        "id": "q2MnqQB24PWa",
        "colab": {
          "base_uri": "https://localhost:8080/"
        },
        "outputId": "6e888a58-f6a2-4ae3-e263-c85bfa56148b"
      },
      "execution_count": 55,
      "outputs": [
        {
          "output_type": "stream",
          "name": "stderr",
          "text": [
            "\r  0%|          | 0/10 [00:00<?, ?it/s]"
          ]
        },
        {
          "output_type": "stream",
          "name": "stdout",
          "text": [
            "Epoch 1 / 10\n"
          ]
        },
        {
          "output_type": "stream",
          "name": "stderr",
          "text": [
            "  0%|          | 1/485 [00:00<01:13,  6.56it/s]"
          ]
        },
        {
          "output_type": "stream",
          "name": "stdout",
          "text": [
            "\n",
            "Batch 0 / 485. Loss:8.400616645812988. Time:0:00:00\n",
            "\n",
            "Sample output: در ره عشق از آن سوی فنا صد خطر است     فیه، در\n",
            "\n"
          ]
        },
        {
          "output_type": "stream",
          "name": "stderr",
          "text": [
            "100%|██████████| 485/485 [00:43<00:00, 11.04it/s]\n"
          ]
        },
        {
          "output_type": "stream",
          "name": "stdout",
          "text": [
            "\n",
            "Average Training Loss: 5.987716745592884. Epoch time: 0:00:44\n",
            "\n"
          ]
        },
        {
          "output_type": "stream",
          "name": "stderr",
          "text": [
            "100%|██████████| 54/54 [00:00<00:00, 62.84it/s]\n",
            " 10%|█         | 1/10 [00:44<06:43, 44.80s/it]"
          ]
        },
        {
          "output_type": "stream",
          "name": "stdout",
          "text": [
            "\n",
            "Validation loss: 5.589861516599302. Validation Time: 0:00:01\n",
            "\n",
            "Epoch 2 / 10\n"
          ]
        },
        {
          "output_type": "stream",
          "name": "stderr",
          "text": [
            "  0%|          | 1/485 [00:00<01:06,  7.33it/s]"
          ]
        },
        {
          "output_type": "stream",
          "name": "stdout",
          "text": [
            "\n",
            "Batch 0 / 485. Loss:4.792538642883301. Time:0:00:00\n",
            "\n",
            "Sample output: ز شعر دلکش حافظ کسی بود آگاه    که می‌گفت آن که ز\n",
            "\n"
          ]
        },
        {
          "output_type": "stream",
          "name": "stderr",
          "text": [
            "100%|██████████| 485/485 [00:44<00:00, 10.96it/s]\n"
          ]
        },
        {
          "output_type": "stream",
          "name": "stdout",
          "text": [
            "\n",
            "Average Training Loss: 4.596180733454596. Epoch time: 0:00:44\n",
            "\n"
          ]
        },
        {
          "output_type": "stream",
          "name": "stderr",
          "text": [
            "100%|██████████| 54/54 [00:01<00:00, 47.41it/s]\n",
            " 20%|██        | 2/10 [01:30<06:01, 45.16s/it]"
          ]
        },
        {
          "output_type": "stream",
          "name": "stdout",
          "text": [
            "\n",
            "Validation loss: 5.653258685712461. Validation Time: 0:00:01\n",
            "\n",
            "Epoch 3 / 10\n"
          ]
        },
        {
          "output_type": "stream",
          "name": "stderr",
          "text": [
            "  0%|          | 1/485 [00:00<01:00,  7.94it/s]"
          ]
        },
        {
          "output_type": "stream",
          "name": "stdout",
          "text": [
            "\n",
            "Batch 0 / 485. Loss:2.884735107421875. Time:0:00:00\n",
            "\n",
            "Sample output: گفتم ای شام غریبان طره شبرنگ تو    گفت این دعا\n",
            "\n"
          ]
        },
        {
          "output_type": "stream",
          "name": "stderr",
          "text": [
            "100%|██████████| 485/485 [00:52<00:00,  9.18it/s]\n"
          ]
        },
        {
          "output_type": "stream",
          "name": "stdout",
          "text": [
            "\n",
            "Average Training Loss: 3.1171123396490037. Epoch time: 0:00:53\n",
            "\n"
          ]
        },
        {
          "output_type": "stream",
          "name": "stderr",
          "text": [
            "100%|██████████| 54/54 [00:02<00:00, 24.07it/s]\n",
            " 30%|███       | 3/10 [02:25<05:47, 49.70s/it]"
          ]
        },
        {
          "output_type": "stream",
          "name": "stdout",
          "text": [
            "\n",
            "Validation loss: 6.340048719335486. Validation Time: 0:00:02\n",
            "\n",
            "Epoch 4 / 10\n"
          ]
        },
        {
          "output_type": "stream",
          "name": "stderr",
          "text": [
            "\r  0%|          | 0/485 [00:00<?, ?it/s]"
          ]
        },
        {
          "output_type": "stream",
          "name": "stdout",
          "text": [
            "\n",
            "Batch 0 / 485. Loss:1.6351584196090698. Time:0:00:00\n",
            "\n",
            "Sample output: هرگز که دیده باشد جسمی ز جان مرکب    توبه آیینه‌ی د\n",
            "\n"
          ]
        },
        {
          "output_type": "stream",
          "name": "stderr",
          "text": [
            "100%|██████████| 485/485 [00:55<00:00,  8.78it/s]\n"
          ]
        },
        {
          "output_type": "stream",
          "name": "stdout",
          "text": [
            "\n",
            "Average Training Loss: 1.6577362168695509. Epoch time: 0:00:55\n",
            "\n"
          ]
        },
        {
          "output_type": "stream",
          "name": "stderr",
          "text": [
            "100%|██████████| 54/54 [00:01<00:00, 46.65it/s]\n",
            " 40%|████      | 4/10 [03:21<05:14, 52.36s/it]"
          ]
        },
        {
          "output_type": "stream",
          "name": "stdout",
          "text": [
            "\n",
            "Validation loss: 7.122812165154351. Validation Time: 0:00:01\n",
            "\n",
            "Epoch 5 / 10\n"
          ]
        },
        {
          "output_type": "stream",
          "name": "stderr",
          "text": [
            "  0%|          | 1/485 [00:00<00:53,  9.01it/s]"
          ]
        },
        {
          "output_type": "stream",
          "name": "stdout",
          "text": [
            "\n",
            "Batch 0 / 485. Loss:0.9092634320259094. Time:0:00:00\n",
            "\n",
            "Sample output: مدامم مست می‌دارد نسیم جعد گیسویت    و اندر\n",
            "\n"
          ]
        },
        {
          "output_type": "stream",
          "name": "stderr",
          "text": [
            "100%|██████████| 485/485 [00:51<00:00,  9.38it/s]\n"
          ]
        },
        {
          "output_type": "stream",
          "name": "stdout",
          "text": [
            "\n",
            "Average Training Loss: 0.7942895912632499. Epoch time: 0:00:52\n",
            "\n"
          ]
        },
        {
          "output_type": "stream",
          "name": "stderr",
          "text": [
            "100%|██████████| 54/54 [00:02<00:00, 25.14it/s]\n",
            " 50%|█████     | 5/10 [04:15<04:24, 52.91s/it]"
          ]
        },
        {
          "output_type": "stream",
          "name": "stdout",
          "text": [
            "\n",
            "Validation loss: 7.629119519834165. Validation Time: 0:00:02\n",
            "\n",
            "Epoch 6 / 10\n"
          ]
        },
        {
          "output_type": "stream",
          "name": "stderr",
          "text": [
            "  0%|          | 1/485 [00:00<01:19,  6.09it/s]"
          ]
        },
        {
          "output_type": "stream",
          "name": "stdout",
          "text": [
            "\n",
            "Batch 0 / 485. Loss:0.359598308801651. Time:0:00:00\n",
            "\n",
            "Sample output: پیر گلرنگ من اندر حق ازرق پوشان    رخصت خبث\n",
            "\n"
          ]
        },
        {
          "output_type": "stream",
          "name": "stderr",
          "text": [
            "100%|██████████| 485/485 [00:44<00:00, 10.89it/s]\n"
          ]
        },
        {
          "output_type": "stream",
          "name": "stdout",
          "text": [
            "\n",
            "Average Training Loss: 0.4812444455230359. Epoch time: 0:00:45\n",
            "\n"
          ]
        },
        {
          "output_type": "stream",
          "name": "stderr",
          "text": [
            "100%|██████████| 54/54 [00:00<00:00, 64.71it/s]\n",
            " 60%|██████    | 6/10 [05:01<03:21, 50.36s/it]"
          ]
        },
        {
          "output_type": "stream",
          "name": "stdout",
          "text": [
            "\n",
            "Validation loss: 7.799597846137153. Validation Time: 0:00:01\n",
            "\n",
            "Epoch 7 / 10\n"
          ]
        },
        {
          "output_type": "stream",
          "name": "stderr",
          "text": [
            "  0%|          | 1/485 [00:00<00:55,  8.68it/s]"
          ]
        },
        {
          "output_type": "stream",
          "name": "stdout",
          "text": [
            "\n",
            "Batch 0 / 485. Loss:0.32012391090393066. Time:0:00:00\n",
            "\n",
            "Sample output: معاشران گره از زلف یار باز کنید    شبی خوش است بدین\n",
            "\n"
          ]
        },
        {
          "output_type": "stream",
          "name": "stderr",
          "text": [
            "100%|██████████| 485/485 [00:42<00:00, 11.55it/s]\n"
          ]
        },
        {
          "output_type": "stream",
          "name": "stdout",
          "text": [
            "\n",
            "Average Training Loss: 0.3807252878995286. Epoch time: 0:00:42\n",
            "\n"
          ]
        },
        {
          "output_type": "stream",
          "name": "stderr",
          "text": [
            "100%|██████████| 54/54 [00:00<00:00, 62.23it/s]\n",
            " 70%|███████   | 7/10 [05:43<02:23, 47.92s/it]"
          ]
        },
        {
          "output_type": "stream",
          "name": "stdout",
          "text": [
            "\n",
            "Validation loss: 7.793362379074097. Validation Time: 0:00:01\n",
            "\n",
            "Epoch 8 / 10\n"
          ]
        },
        {
          "output_type": "stream",
          "name": "stderr",
          "text": [
            "  0%|          | 1/485 [00:00<01:03,  7.59it/s]"
          ]
        },
        {
          "output_type": "stream",
          "name": "stdout",
          "text": [
            "\n",
            "Batch 0 / 485. Loss:0.25126561522483826. Time:0:00:00\n",
            "\n",
            "Sample output: گل بخندید که از راست نرنجیم ولی    هیچ عاشق سخن سخت به\n",
            "\n"
          ]
        },
        {
          "output_type": "stream",
          "name": "stderr",
          "text": [
            "100%|██████████| 485/485 [00:42<00:00, 11.50it/s]\n"
          ]
        },
        {
          "output_type": "stream",
          "name": "stdout",
          "text": [
            "\n",
            "Average Training Loss: 0.33456968327158504. Epoch time: 0:00:42\n",
            "\n"
          ]
        },
        {
          "output_type": "stream",
          "name": "stderr",
          "text": [
            "100%|██████████| 54/54 [00:00<00:00, 66.14it/s]\n",
            " 80%|████████  | 8/10 [06:26<01:32, 46.36s/it]"
          ]
        },
        {
          "output_type": "stream",
          "name": "stdout",
          "text": [
            "\n",
            "Validation loss: 7.864461227699563. Validation Time: 0:00:01\n",
            "\n",
            "Epoch 9 / 10\n"
          ]
        },
        {
          "output_type": "stream",
          "name": "stderr",
          "text": [
            "  0%|          | 1/485 [00:00<00:55,  8.68it/s]"
          ]
        },
        {
          "output_type": "stream",
          "name": "stdout",
          "text": [
            "\n",
            "Batch 0 / 485. Loss:0.28942736983299255. Time:0:00:00\n",
            "\n",
            "Sample output: خط سبز و عارضت را نقش بندان خطا    سایبان از عنبر تر\n",
            "\n"
          ]
        },
        {
          "output_type": "stream",
          "name": "stderr",
          "text": [
            "100%|██████████| 485/485 [00:41<00:00, 11.78it/s]\n"
          ]
        },
        {
          "output_type": "stream",
          "name": "stdout",
          "text": [
            "\n",
            "Average Training Loss: 0.2975948231429169. Epoch time: 0:00:41\n",
            "\n"
          ]
        },
        {
          "output_type": "stream",
          "name": "stderr",
          "text": [
            "100%|██████████| 54/54 [00:00<00:00, 64.28it/s]\n",
            " 90%|█████████ | 9/10 [07:08<00:45, 45.00s/it]"
          ]
        },
        {
          "output_type": "stream",
          "name": "stdout",
          "text": [
            "\n",
            "Validation loss: 7.921950693483706. Validation Time: 0:00:01\n",
            "\n",
            "Epoch 10 / 10\n"
          ]
        },
        {
          "output_type": "stream",
          "name": "stderr",
          "text": [
            "  0%|          | 1/485 [00:00<00:52,  9.30it/s]"
          ]
        },
        {
          "output_type": "stream",
          "name": "stdout",
          "text": [
            "\n",
            "Batch 0 / 485. Loss:0.2045382559299469. Time:0:00:00\n",
            "\n",
            "Sample output: چنین قفس نه سزای چو من خوش الحانیست    روم به گلشن رضوان\n",
            "\n"
          ]
        },
        {
          "output_type": "stream",
          "name": "stderr",
          "text": [
            "100%|██████████| 485/485 [00:41<00:00, 11.78it/s]\n"
          ]
        },
        {
          "output_type": "stream",
          "name": "stdout",
          "text": [
            "\n",
            "Average Training Loss: 0.2596408551808485. Epoch time: 0:00:41\n",
            "\n"
          ]
        },
        {
          "output_type": "stream",
          "name": "stderr",
          "text": [
            "100%|██████████| 54/54 [00:01<00:00, 50.20it/s]\n",
            "100%|██████████| 10/10 [07:51<00:00, 47.13s/it]"
          ]
        },
        {
          "output_type": "stream",
          "name": "stdout",
          "text": [
            "\n",
            "Validation loss: 8.003160768085056. Validation Time: 0:00:01\n",
            "\n",
            "Total training took 0:07:51\n"
          ]
        },
        {
          "output_type": "stream",
          "name": "stderr",
          "text": [
            "\n"
          ]
        }
      ]
    },
    {
      "cell_type": "code",
      "source": [
        "def generator(sample_mesra_1, max_length=128, num_return_sequences=3, debug=True):\n",
        "    model.eval()\n",
        "    prompt = f\"{sample_mesra_1}<|startoftext|>\"\n",
        "\n",
        "    generated = torch.tensor(tokenizer.encode(prompt)).unsqueeze(0)\n",
        "    generated = generated.to(device)\n",
        "\n",
        "    decoded_outputs = model.generate(\n",
        "        generated,\n",
        "        do_sample=True,\n",
        "        top_k=50,\n",
        "        max_length=20, \n",
        "        top_p=0.95,\n",
        "        num_return_sequences=num_return_sequences,\n",
        "        pad_token_id=tokenizer.eos_token_id\n",
        "    )\n",
        "\n",
        "    # for i, output in enumerate(decoded_outputs):\n",
        "    #     o = tokenizer.decode(output, skip_special_tokens=False)\n",
        "    #     out = o.replace(\"<|startoftext|>\", \"\\t\\t\")\n",
        "    #     out = out.replace(\"<pad>\", \"\")\n",
        "    #     # For eval\n",
        "    #     mesra_2 = o.split(\"<|startoftext|>\")[-1]\n",
        "    #     if debug:\n",
        "    #       print(o)\n",
        "    for i, output in enumerate(decoded_outputs):\n",
        "        o = tokenizer.decode(output, skip_special_tokens=False)\n",
        "        out = o.replace(\"<|startoftext|>\", \" ---> \")\n",
        "        out = out.replace(\"<pad>\", \"\")\n",
        "        out = out.replace(\"<sep>\", \"\")\n",
        "        mesra_2 = o.split(\"<|startoftext|>\")[-1]\n",
        "        if debug:\n",
        "            print(out)\n",
        "\n",
        "    return mesra_2"
      ],
      "metadata": {
        "id": "HZCgq5L_4PSL"
      },
      "execution_count": 104,
      "outputs": []
    },
    {
      "cell_type": "markdown",
      "source": [
        "### Complete one beyt"
      ],
      "metadata": {
        "id": "Da8aRPCxlMyT"
      }
    },
    {
      "cell_type": "code",
      "source": [
        "sample_mesra_1 = mesra_1_list[20]\n",
        "generator(sample_mesra_1, max_length=max_seq, num_return_sequences=1);"
      ],
      "metadata": {
        "id": "FbQhm5eX4POz",
        "colab": {
          "base_uri": "https://localhost:8080/"
        },
        "outputId": "eeb357e6-6afa-4205-b22f-7219f4ff005b"
      },
      "execution_count": 107,
      "outputs": [
        {
          "output_type": "stream",
          "name": "stdout",
          "text": [
            "نی دولت دنیا به ستم می‌ارزد ---> نی لذت مستی‌اش المبلکه در وی شر\n"
          ]
        }
      ]
    },
    {
      "cell_type": "markdown",
      "source": [
        "### Multiple outputs for a single beyt"
      ],
      "metadata": {
        "id": "Xac3M-orlQqL"
      }
    },
    {
      "cell_type": "code",
      "source": [
        "for i in range(10):\n",
        "    generator(mesra_1_list[20], max_length=max_seq, num_return_sequences=1)\n",
        "    print()"
      ],
      "metadata": {
        "id": "3ZqB4WNh4PHH",
        "colab": {
          "base_uri": "https://localhost:8080/"
        },
        "outputId": "c6348b1c-2cee-4973-bdda-702f2d4347d6"
      },
      "execution_count": 109,
      "outputs": [
        {
          "output_type": "stream",
          "name": "stdout",
          "text": [
            "نی دولت دنیا به ستم می‌ارزد ---> نی لذت مستی‌اش المبلکه به مستی‌\n",
            "\n",
            "نی دولت دنیا به ستم می‌ارزد ---> نی لذت مستی‌اش المبلکه از مکدر\n",
            "\n",
            "نی دولت دنیا به ستم می‌ارزد ---> نی لذت مستی‌اش المبلکه به زور می\n",
            "\n",
            "نی دولت دنیا به ستم می‌ارزد ---> نی لذت مستی‌اش المبلغ الطفیل جل\n",
            "\n",
            "نی دولت دنیا به ستم می‌ارزد ---> نی لذت مستی‌اش المبلکه باده به\n",
            "\n",
            "نی دولت دنیا به ستم می‌ارزد ---> نی لذت مستی‌اش المبلکه به من درویش\n",
            "\n",
            "نی دولت دنیا به ستم می‌ارزد ---> نی لذت مستی‌اش المبلکه بات بکشم\n",
            "\n",
            "نی دولت دنیا به ستم می‌ارزد ---> نی لذت مستی‌اش المبلای من علی رغم\n",
            "\n",
            "نی دولت دنیا به ستم می‌ارزد ---> نی لذت مستی‌اش المبلکه به فسوسی\n",
            "\n",
            "نی دولت دنیا به ستم می‌ارزد ---> نی لذت مستی‌اش المبلغ الطاقه یا\n",
            "\n"
          ]
        }
      ]
    },
    {
      "cell_type": "code",
      "source": [
        "for i in range(10):\n",
        "    generator(mesra_1_list[14], max_length=max_seq, num_return_sequences=1)\n",
        "    print()"
      ],
      "metadata": {
        "colab": {
          "base_uri": "https://localhost:8080/"
        },
        "id": "U16oNqi2rqz-",
        "outputId": "34fa2e61-5945-4325-dd93-04c23f4c6800"
      },
      "execution_count": 110,
      "outputs": [
        {
          "output_type": "stream",
          "name": "stdout",
          "text": [
            "امشب ز غمت میان خون خواهم خفت ---> وز بستر عافیت در عافیت میان\n",
            "\n",
            "امشب ز غمت میان خون خواهم خفت ---> وز بستر عافیت این شوخی که در او\n",
            "\n",
            "امشب ز غمت میان خون خواهم خفت ---> وز بستر عافیت امن و فسون امن\n",
            "\n",
            "امشب ز غمت میان خون خواهم خفت ---> وز بستر عافیت را چاره از بستر ع\n",
            "\n",
            "امشب ز غمت میان خون خواهم خفت ---> وز بستر عافیت بسته‌ام در ع\n",
            "\n",
            "امشب ز غمت میان خون خواهم خفت ---> وز بستر عافیت اشارت مگر خوش است\n",
            "\n",
            "امشب ز غمت میان خون خواهم خفت ---> وز بستر عافیت درگه پیر مغان پن\n",
            "\n",
            "امشب ز غمت میان خون خواهم خفت ---> وز بستر عافیت میسر نمی‌شود ن\n",
            "\n",
            "امشب ز غمت میان خون خواهم خفت ---> وز بستر عافیت نخواهد شد در آتش در\n",
            "\n",
            "امشب ز غمت میان خون خواهم خفت ---> وز بستر عافیت را نیست درخور خبر شود\n",
            "\n"
          ]
        }
      ]
    },
    {
      "cell_type": "code",
      "source": [
        "for i in range(10):\n",
        "    generator(mesra_1_list[7], max_length=max_seq, num_return_sequences=1)\n",
        "    print()"
      ],
      "metadata": {
        "colab": {
          "base_uri": "https://localhost:8080/"
        },
        "id": "2yaFtfmIruiE",
        "outputId": "88af909d-a565-4037-ad99-e16927ff3807"
      },
      "execution_count": 111,
      "outputs": [
        {
          "output_type": "stream",
          "name": "stdout",
          "text": [
            "پیداست از آن میان چو بربست کمر ---> تا من ز کمر چه می‌خواهمم خون\n",
            "\n",
            "پیداست از آن میان چو بربست کمر ---> تا من ز کمر چه شود میلم چه شود\n",
            "\n",
            "پیداست از آن میان چو بربست کمر ---> تا من ز کمر چه تدبیرم چه کنم در\n",
            "\n",
            "پیداست از آن میان چو بربست کمر ---> تا من ز کمر چه شود میلم چه شود\n",
            "\n",
            "پیداست از آن میان چو بربست کمر ---> تا من ز کمر چه تدبیرمدرخواهم\n",
            "\n",
            "پیداست از آن میان چو بربست کمر ---> تا من ز کمر چه تدبیرم اندیشم\n",
            "\n",
            "پیداست از آن میان چو بربست کمر ---> تا من ز کمر چه تدبیرمجویم چه\n",
            "\n",
            "پیداست از آن میان چو بربست کمر ---> تا من ز کمر چه تدبیرم در کمر چه\n",
            "\n",
            "پیداست از آن میان چو بربست کمر ---> تا من ز کمر چه تدبیرمدر رکاب\n",
            "\n",
            "پیداست از آن میان چو بربست کمر ---> تا من ز کمر چه رانی کمر چه تدبیرم\n",
            "\n"
          ]
        }
      ]
    },
    {
      "cell_type": "markdown",
      "source": [
        "## Evaluation"
      ],
      "metadata": {
        "id": "fVTjXW8fRUl5"
      }
    },
    {
      "cell_type": "code",
      "source": [
        "groups = test.groupby(by='v_position')\n",
        "mesra_1_list_test, mesra_2_list_test = [], []\n",
        "for grp, poem in groups:\n",
        "    if grp == 0:\n",
        "        mesra_1_list_test = list(poem['poem_text'])\n",
        "    else:\n",
        "        mesra_2_list_test = list(poem['poem_text'])"
      ],
      "metadata": {
        "id": "pbx8I1maRS4c"
      },
      "execution_count": 112,
      "outputs": []
    },
    {
      "cell_type": "code",
      "source": [
        "for _ in range(10):\n",
        "    generator(mesra_1_list_test[8], max_length=max_seq, num_return_sequences=1)\n",
        "    print()"
      ],
      "metadata": {
        "colab": {
          "base_uri": "https://localhost:8080/"
        },
        "id": "H9srQK8ARS2t",
        "outputId": "bd9f2397-71b3-476b-b1ef-fea1cf4ffc4a"
      },
      "execution_count": 120,
      "outputs": [
        {
          "output_type": "stream",
          "name": "stdout",
          "text": [
            "نه طبق سپهر و آن قرصه‌ی ماه و خور که هست ---> پیش عنقا قیاس اساس\n",
            "نه طبق سپهر و آن قرصه‌ی ماه و خور که هست ---> یا رب از بساط قر\n",
            "نه طبق سپهر و آن قرصه‌ی ماه و خور که هست ---> هزار نکته‌ی این\n",
            "نه طبق سپهر و آن قرصه‌ی ماه و خور که هست ---> از شاه و وزیر\n",
            "نه طبق سپهر و آن قرصه‌ی ماه و خور که هست ---> باده‌ی تقوی بر\n",
            "نه طبق سپهر و آن قرصه‌ی ماه و خور که هست ---> نشان پیر مغان باد را\n",
            "نه طبق سپهر و آن قرصه‌ی ماه و خور که هست ---> هزار یوسفم او به\n",
            "نه طبق سپهر و آن قرصه‌ی ماه و خور که هست ---> باده با قدح به\n",
            "نه طبق سپهر و آن قرصه‌ی ماه و خور که هست ---> هر چه بر وفق\n",
            "نه طبق سپهر و آن قرصه‌ی ماه و خور که هست ---> بنده‌ی زمین علم\n"
          ]
        }
      ]
    },
    {
      "cell_type": "code",
      "source": [
        "for _ in range(10):\n",
        "    generator(mesra_1_list_test[1], max_length=max_seq, num_return_sequences=1)\n",
        "    print()"
      ],
      "metadata": {
        "colab": {
          "base_uri": "https://localhost:8080/"
        },
        "id": "rGFUbfJLtrQ0",
        "outputId": "35af0f23-8714-4f34-d058-7c68e64cbecb"
      },
      "execution_count": 122,
      "outputs": [
        {
          "output_type": "stream",
          "name": "stdout",
          "text": [
            "گفتم سخن تو، گفت حافظ گفتا ---> وین دفتر بی‌خبر ز خط و خال تو هزاران\n",
            "\n",
            "گفتم سخن تو، گفت حافظ گفتا ---> گفتا که احوال ما مپرس کرده‌ایم\n",
            "\n",
            "گفتم سخن تو، گفت حافظ گفتا ---> کان شکر لهجه‌ی خوش لهجه‌ی خوش لهجه\n",
            "\n",
            "گفتم سخن تو، گفت حافظ گفتا ---> در حق من این سخن این سخن ز که به سمع\n",
            "\n",
            "گفتم سخن تو، گفت حافظ گفتا ---> با این همه او گفت و بر من دل آن سخن\n",
            "\n",
            "گفتم سخن تو، گفت حافظ گفتا ---> گفت این سخن عشق آن زبان، که تو گفت از\n",
            "\n",
            "گفتم سخن تو، گفت حافظ گفتا ---> گفتا که بوسه تو رخ ماه رخ ماه است و\n",
            "\n",
            "گفتم سخن تو، گفت حافظ گفتا ---> در دایره قسمت اوضاع تو این سخن ز گیسوی سیاه\n",
            "\n",
            "گفتم سخن تو، گفت حافظ گفتا ---> در چین زلف تو خون به من کی زان لب می\n",
            "\n",
            "گفتم سخن تو، گفت حافظ گفتا ---> کو محتسبی که احوال مرا‌اش در جست\n",
            "\n"
          ]
        }
      ]
    },
    {
      "cell_type": "code",
      "source": [
        "for _ in range(10):\n",
        "    generator(mesra_1_list_test[3], max_length=max_seq, num_return_sequences=1)\n",
        "    print()"
      ],
      "metadata": {
        "colab": {
          "base_uri": "https://localhost:8080/"
        },
        "id": "-pcyvFintsXW",
        "outputId": "51a8fac9-0b93-4291-fed8-335a4e9c9aad"
      },
      "execution_count": 121,
      "outputs": [
        {
          "output_type": "stream",
          "name": "stdout",
          "text": [
            "از دست جوانی‌ام چو بربود عنان ---> تا چو شود سرو در میکده خواب آلوده نمازی\n",
            "\n",
            "از دست جوانی‌ام چو بربود عنان ---> از جام گل دگر پیر می بهنسیم\n",
            "\n",
            "از دست جوانی‌ام چو بربود عنان ---> در دست جوانی‌اش ز تنمدر جهان\n",
            "\n",
            "از دست جوانی‌ام چو بربود عنان ---> کای دل خوش نوا به وداعشوه‌اش\n",
            "\n",
            "از دست جوانی‌ام چو بربود عنان ---> از جام وصل می‌ام چو گل دگر یاد\n",
            "\n",
            "از دست جوانی‌ام چو بربود عنان ---> دست قدرت نگر که بر دو دیده خودشمید\n",
            "\n",
            "از دست جوانی‌ام چو بربود عنان ---> ز جام وصل می لبت کامگار می ل\n",
            "\n",
            "از دست جوانی‌ام چو بربود عنان ---> کای دل کار ما از آن درگیرد شیران\n",
            "\n",
            "از دست جوانی‌ام چو بربود عنان ---> از دست خوبان کهنمدولت صحبت آن\n",
            "\n",
            "از دست جوانی‌ام چو بربود عنان ---> از دست رفته بودش روزگار رخت به بویان\n",
            "\n"
          ]
        }
      ]
    },
    {
      "cell_type": "code",
      "source": [
        "for _ in range(10):\n",
        "    generator(mesra_1_list_test[11], max_length=max_seq, num_return_sequences=1)\n",
        "    print()"
      ],
      "metadata": {
        "colab": {
          "base_uri": "https://localhost:8080/"
        },
        "id": "S6vYMHRatvAn",
        "outputId": "41fc064b-02d4-4d7a-db6e-34553468f38d"
      },
      "execution_count": 123,
      "outputs": [
        {
          "output_type": "stream",
          "name": "stdout",
          "text": [
            "هیچ مژگان دراز و عشوه‌ی جادو نکرد ---> هر که با چنان جگر به جان بود به\n",
            "\n",
            "هیچ مژگان دراز و عشوه‌ی جادو نکرد ---> یا رب از خاطرش اندیشه‌ی خود دل\n",
            "\n",
            "هیچ مژگان دراز و عشوه‌ی جادو نکرد ---> همه از مهره بگذر و نقش خیال است و\n",
            "\n",
            "هیچ مژگان دراز و عشوه‌ی جادو نکرد ---> هر که این قدرم همه رنگ و خیال\n",
            "\n",
            "هیچ مژگان دراز و عشوه‌ی جادو نکرد ---> هر که این قدر قلب بدین دست داد و\n",
            "\n",
            "هیچ مژگان دراز و عشوه‌ی جادو نکرد ---> هر که اقرار بدین حسن کندسرتو\n",
            "\n",
            "هیچ مژگان دراز و عشوه‌ی جادو نکرد ---> هر که دانسته رود صرفه‌ای نبرد صرفه\n",
            "\n",
            "هیچ مژگان دراز و عشوه‌ی جادو نکرد ---> همه‌ی آن که رایت به دست\n",
            "\n",
            "هیچ مژگان دراز و عشوه‌ی جادو نکرد ---> هیچراهی نیست کان چنان که دیده‌ی\n",
            "\n",
            "هیچ مژگان دراز و عشوه‌ی جادو نکرد ---> وان که زهدفروشان را به تیغ کشید\n",
            "\n"
          ]
        }
      ]
    },
    {
      "cell_type": "code",
      "source": [
        "for _ in range(10):\n",
        "    generator(mesra_1_list_test[13], max_length=max_seq, num_return_sequences=1)\n",
        "    print()"
      ],
      "metadata": {
        "colab": {
          "base_uri": "https://localhost:8080/"
        },
        "id": "-GuhSNo-txIo",
        "outputId": "38179f4f-e5aa-4f1f-f97f-83e6ebe2abeb"
      },
      "execution_count": 124,
      "outputs": [
        {
          "output_type": "stream",
          "name": "stdout",
          "text": [
            "در سفالین کاسه‌ی رندان به خواری منگرید ---> زانکه کاسه‌ی تقویست نصاب\n",
            "\n",
            "در سفالین کاسه‌ی رندان به خواری منگرید ---> یا رب ز ابروی تو در محراب کنند\n",
            "\n",
            "در سفالین کاسه‌ی رندان به خواری منگرید ---> به خنده گفت که حافظ راست از دنی\n",
            "\n",
            "در سفالین کاسه‌ی رندان به خواری منگرید ---> ز قعر سر غیب ز رندان به\n",
            "\n",
            "در سفالین کاسه‌ی رندان به خواری منگرید ---> ای پسته حرام از آن میان\n",
            "\n",
            "در سفالین کاسه‌ی رندان به خواری منگرید ---> به آمرزش راز دل و زرق ز\n",
            "\n",
            "در سفالین کاسه‌ی رندان به خواری منگرید ---> تا حریفان به جز ساغر که منع\n",
            "\n",
            "در سفالین کاسه‌ی رندان به خواری منگرید ---> ز گریه و غمزه‌یاران\n",
            "\n",
            "در سفالین کاسه‌ی رندان به خواری منگرید ---> زان رو که را نیست بر او منت\n",
            "\n",
            "در سفالین کاسه‌ی رندان به خواری منگرید ---> ز کاسه‌ی رندان به کف\n",
            "\n"
          ]
        }
      ]
    },
    {
      "cell_type": "markdown",
      "source": [
        "### BLEU"
      ],
      "metadata": {
        "id": "CpTMw18Vl77k"
      }
    },
    {
      "cell_type": "code",
      "source": [
        "from nltk.translate.bleu_score import sentence_bleu\n",
        "\n",
        "def calculate_bleu_score(gt, pred):\n",
        "    gt = [gt.split()]\n",
        "    pred = pred.split()\n",
        "    score = sentence_bleu(gt, pred, weights=(1, 0, 0, 0))\n",
        "    return score"
      ],
      "metadata": {
        "id": "7-VSDGmoVDkp"
      },
      "execution_count": 114,
      "outputs": []
    },
    {
      "cell_type": "code",
      "source": [
        "scores = []\n",
        "outputs = []\n",
        "for mesra_1_test, mesra_2_test in zip(mesra_1_list_test, mesra_2_list_test):\n",
        "    output = generator(mesra_1_test, max_length=max_seq, num_return_sequences=1, debug=False)\n",
        "    outputs.append(output)\n",
        "    score = calculate_bleu_score(gt=mesra_2_test, pred=output)\n",
        "    scores.append(score)\n",
        "  \n",
        "print(\"BLEU:\", np.average(scores))"
      ],
      "metadata": {
        "colab": {
          "base_uri": "https://localhost:8080/"
        },
        "id": "3BwqOrZXYiWY",
        "outputId": "c62c66b9-4683-4fec-889c-a0ece8440e7e"
      },
      "execution_count": 119,
      "outputs": [
        {
          "output_type": "stream",
          "name": "stdout",
          "text": [
            "BLEU: 0.05666578335754274\n"
          ]
        }
      ]
    }
  ]
}